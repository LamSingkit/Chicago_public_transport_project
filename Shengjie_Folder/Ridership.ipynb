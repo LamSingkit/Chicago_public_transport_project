{
 "cells": [
  {
   "cell_type": "code",
   "execution_count": 1,
   "metadata": {},
   "outputs": [],
   "source": [
    "import numpy as np\n",
    "import pandas as pd\n",
    "import matplotlib.pyplot as plt"
   ]
  },
  {
   "cell_type": "code",
   "execution_count": 2,
   "metadata": {},
   "outputs": [],
   "source": [
    "df = pd.read_csv('./Data/CTA_-_Ridership_-_Bus_Routes_-_Monthly_Day-Type_Averages___Totals.csv')"
   ]
  },
  {
   "cell_type": "code",
   "execution_count": 3,
   "metadata": {},
   "outputs": [],
   "source": [
    "df['Month_Beginning'] = pd.to_datetime(df['Month_Beginning'])"
   ]
  },
  {
   "cell_type": "code",
   "execution_count": 4,
   "metadata": {},
   "outputs": [],
   "source": [
    "df.set_index('Month_Beginning',inplace=True)\n",
    "df.sort_index(inplace=True)"
   ]
  },
  {
   "cell_type": "code",
   "execution_count": 5,
   "metadata": {},
   "outputs": [
    {
     "data": {
      "text/html": [
       "<div>\n",
       "<style scoped>\n",
       "    .dataframe tbody tr th:only-of-type {\n",
       "        vertical-align: middle;\n",
       "    }\n",
       "\n",
       "    .dataframe tbody tr th {\n",
       "        vertical-align: top;\n",
       "    }\n",
       "\n",
       "    .dataframe thead th {\n",
       "        text-align: right;\n",
       "    }\n",
       "</style>\n",
       "<table border=\"1\" class=\"dataframe\">\n",
       "  <thead>\n",
       "    <tr style=\"text-align: right;\">\n",
       "      <th></th>\n",
       "      <th>route</th>\n",
       "      <th>routename</th>\n",
       "      <th>Avg_Weekday_Rides</th>\n",
       "      <th>Avg_Saturday_Rides</th>\n",
       "      <th>Avg_Sunday-Holiday_Rides</th>\n",
       "      <th>MonthTotal</th>\n",
       "    </tr>\n",
       "    <tr>\n",
       "      <th>Month_Beginning</th>\n",
       "      <th></th>\n",
       "      <th></th>\n",
       "      <th></th>\n",
       "      <th></th>\n",
       "      <th></th>\n",
       "      <th></th>\n",
       "    </tr>\n",
       "  </thead>\n",
       "  <tbody>\n",
       "    <tr>\n",
       "      <th>2001-01-01</th>\n",
       "      <td>1</td>\n",
       "      <td>Indiana/Hyde Park</td>\n",
       "      <td>6982.6</td>\n",
       "      <td>0.0</td>\n",
       "      <td>0.0</td>\n",
       "      <td>153617</td>\n",
       "    </tr>\n",
       "    <tr>\n",
       "      <th>2001-01-01</th>\n",
       "      <td>97</td>\n",
       "      <td>Skokie</td>\n",
       "      <td>3681.4</td>\n",
       "      <td>2066.7</td>\n",
       "      <td>1167.5</td>\n",
       "      <td>95096</td>\n",
       "    </tr>\n",
       "    <tr>\n",
       "      <th>2001-01-01</th>\n",
       "      <td>96</td>\n",
       "      <td>Lunt</td>\n",
       "      <td>1343.2</td>\n",
       "      <td>0.0</td>\n",
       "      <td>0.0</td>\n",
       "      <td>29550</td>\n",
       "    </tr>\n",
       "    <tr>\n",
       "      <th>2001-01-01</th>\n",
       "      <td>95W</td>\n",
       "      <td>West 95th</td>\n",
       "      <td>5162.6</td>\n",
       "      <td>4526.5</td>\n",
       "      <td>2556.7</td>\n",
       "      <td>144468</td>\n",
       "    </tr>\n",
       "    <tr>\n",
       "      <th>2001-01-01</th>\n",
       "      <td>95E</td>\n",
       "      <td>93rd-95th</td>\n",
       "      <td>5787.1</td>\n",
       "      <td>4530.5</td>\n",
       "      <td>3014.3</td>\n",
       "      <td>160511</td>\n",
       "    </tr>\n",
       "  </tbody>\n",
       "</table>\n",
       "</div>"
      ],
      "text/plain": [
       "                route          routename  Avg_Weekday_Rides  \\\n",
       "Month_Beginning                                               \n",
       "2001-01-01          1  Indiana/Hyde Park             6982.6   \n",
       "2001-01-01         97             Skokie             3681.4   \n",
       "2001-01-01         96               Lunt             1343.2   \n",
       "2001-01-01        95W          West 95th             5162.6   \n",
       "2001-01-01        95E          93rd-95th             5787.1   \n",
       "\n",
       "                 Avg_Saturday_Rides  Avg_Sunday-Holiday_Rides  MonthTotal  \n",
       "Month_Beginning                                                            \n",
       "2001-01-01                      0.0                       0.0      153617  \n",
       "2001-01-01                   2066.7                    1167.5       95096  \n",
       "2001-01-01                      0.0                       0.0       29550  \n",
       "2001-01-01                   4526.5                    2556.7      144468  \n",
       "2001-01-01                   4530.5                    3014.3      160511  "
      ]
     },
     "execution_count": 5,
     "metadata": {},
     "output_type": "execute_result"
    }
   ],
   "source": [
    "df.head()"
   ]
  },
  {
   "cell_type": "code",
   "execution_count": 6,
   "metadata": {},
   "outputs": [
    {
     "data": {
      "text/plain": [
       "184"
      ]
     },
     "execution_count": 6,
     "metadata": {},
     "output_type": "execute_result"
    }
   ],
   "source": [
    "df['route'].nunique()"
   ]
  },
  {
   "cell_type": "code",
   "execution_count": 21,
   "metadata": {},
   "outputs": [
    {
     "data": {
      "text/plain": [
       "<Figure size 1080x576 with 0 Axes>"
      ]
     },
     "metadata": {},
     "output_type": "display_data"
    },
    {
     "data": {
      "image/png": "[encoded data removed]",
      "text/plain": [
       "<Figure size 432x288 with 1 Axes>"
      ]
     },
     "metadata": {
      "needs_background": "light"
     },
     "output_type": "display_data"
    }
   ],
   "source": [
    "plt.figure(figsize=(15,8));\n",
    "df.groupby('Month_Beginning').sum()[['MonthTotal']].plot();"
   ]
  }
 ],
 "metadata": {
  "kernelspec": {
   "display_name": "Python 3",
   "language": "python",
   "name": "python3"
  },
  "language_info": {
   "codemirror_mode": {
    "name": "ipython",
    "version": 3
   },
   "file_extension": ".py",
   "mimetype": "text/x-python",
   "name": "python",
   "nbconvert_exporter": "python",
   "pygments_lexer": "ipython3",
   "version": "3.8.5"
  }
 },
 "nbformat": 4,
 "nbformat_minor": 4
}
