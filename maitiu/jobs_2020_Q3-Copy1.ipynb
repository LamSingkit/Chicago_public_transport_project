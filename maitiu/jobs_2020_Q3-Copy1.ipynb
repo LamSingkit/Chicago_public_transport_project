{
 "cells": [
  {
   "cell_type": "code",
   "execution_count": 1,
   "id": "b445d5c2",
   "metadata": {},
   "outputs": [],
   "source": [
    "import pandas as pd"
   ]
  },
  {
   "cell_type": "code",
   "execution_count": 2,
   "id": "9e2eec3d",
   "metadata": {},
   "outputs": [],
   "source": [
    "df = pd.read_excel('./datasets/2020.xls')"
   ]
  },
  {
   "cell_type": "markdown",
   "id": "82964ab0",
   "metadata": {},
   "source": [
    "# the pdf from the website has historical info so I should use that\n",
    "everything below is copied over from the 2020 Q3 dataset"
   ]
  },
  {
   "cell_type": "code",
   "execution_count": null,
   "id": "3e4c8770",
   "metadata": {},
   "outputs": [],
   "source": [
    "by_zip_1 = pd.read_excel('./datasets/2020q3_where_workers_work.xls', sheet_name='Table9',\n",
    "                         header=5,\n",
    "                         nrows=1,\n",
    "                         usecols='E,G,I,K')\n",
    "by_zip_2 = pd.read_excel('./datasets/2020q3_where_workers_work.xls', sheet_name='Table10',\n",
    "                         header=5,\n",
    "                         nrows=1,\n",
    "                         usecols='E,G,I,K,M,O')\n",
    "by_zip_3 = pd.read_excel('./datasets/2020q3_where_workers_work.xls', sheet_name='Table11',\n",
    "                         header=5,\n",
    "                         nrows=1,\n",
    "                         usecols='C,D,E,F,G,H,I,J,K,L,M')\n",
    "by_zip_4 = pd.read_excel('./datasets/2020q3_where_workers_work.xls', sheet_name='Table12',\n",
    "                         header=5,\n",
    "                         nrows=1,\n",
    "                         usecols='C,D,E,F,G,H,I,J')\n",
    "by_zip_5 = pd.read_excel('./datasets/2020q3_where_workers_work.xls', sheet_name='Table13',\n",
    "                         header=5,\n",
    "                         nrows=1,\n",
    "                         usecols='E,G,I,K,M')\n",
    "by_zip_6 = pd.read_excel('./datasets/2020q3_where_workers_work.xls', sheet_name='Table14',\n",
    "                         header=5,\n",
    "                         nrows=1,\n",
    "                         usecols='C,D,E,F,G,H,I,J,K')\n",
    "by_zip_7 = pd.read_excel('./datasets/2020q3_where_workers_work.xls', sheet_name='Table15',\n",
    "                         header=5,\n",
    "                         nrows=1,\n",
    "                         usecols='C,D,E,F,G,H,I,J,K')\n",
    "by_zip_8 = pd.read_excel('./datasets/2020q3_where_workers_work.xls', sheet_name='Table16',\n",
    "                         header=5,\n",
    "                         nrows=1,\n",
    "                         usecols='D,F,H,J,L')"
   ]
  },
  {
   "cell_type": "code",
   "execution_count": null,
   "id": "c6de96e3",
   "metadata": {
    "scrolled": true
   },
   "outputs": [],
   "source": [
    "dataframes = [by_zip_2, by_zip_3, by_zip_4, by_zip_5, by_zip_6, by_zip_7, by_zip_8]\n",
    "by_zips = by_zip_1.join(dataframes).T\n",
    "by_zips.reset_index(inplace=True)\n",
    "by_zips.rename(columns = {'index': 'zip_code', 0:'job_count'}, inplace=True)"
   ]
  },
  {
   "cell_type": "code",
   "execution_count": null,
   "id": "04811605",
   "metadata": {},
   "outputs": [],
   "source": [
    "job_data_zips = [by_zips['zip_code'][i] for i in range(len(by_zips))]"
   ]
  },
  {
   "cell_type": "code",
   "execution_count": null,
   "id": "9b43a339",
   "metadata": {},
   "outputs": [],
   "source": [
    "import folium\n",
    "import json\n",
    "from folium import plugins"
   ]
  },
  {
   "cell_type": "code",
   "execution_count": null,
   "id": "ca248cd5",
   "metadata": {},
   "outputs": [],
   "source": [
    "with open('./datasets/zip_codes.geojson') as f:\n",
    "    zips = json.load(f)"
   ]
  },
  {
   "cell_type": "code",
   "execution_count": null,
   "id": "d71285b2",
   "metadata": {},
   "outputs": [],
   "source": [
    "geojson_zips = sorted([int(zips['features'][i]['properties']['zip']) for i in range(len(zips['features']))])"
   ]
  },
  {
   "cell_type": "code",
   "execution_count": null,
   "id": "8dcdf3bd",
   "metadata": {},
   "outputs": [],
   "source": [
    "set(geojson_zips) ^ set(job_data_zips)"
   ]
  },
  {
   "cell_type": "markdown",
   "id": "585907c9",
   "metadata": {},
   "source": [
    "- 60610: Cabrini-Green, Gold Coast (has a 1 block enclave in 60654? haha turns out it's the post office)\n",
    "- 60654: River North\n",
    "- 60627: Riverdale (neighborhood, not village. zip note showing up on google maps) - it has 60628\n",
    "- 60827: Riverdale village (not part of Chicago)\n",
    "- 60635: Elmwood Park (lmao they changed to 60707 in '96 https://www.chicagotribune.com/news/ct-xpm-1996-07-02-9607020235-story.html)\n",
    "- 60707: Elmwood Park (not part of Chicago)\n",
    "- 60642: Goose Island, Noble Square\n",
    "- 60666: O'Hare (60656 is the weird split of O'Hare on the Chicago side)"
   ]
  },
  {
   "cell_type": "markdown",
   "id": "45283bd4",
   "metadata": {},
   "source": [
    "## i'll put here which ones i'm gonna get rid of"
   ]
  },
  {
   "cell_type": "code",
   "execution_count": null,
   "id": "556d4bbc",
   "metadata": {},
   "outputs": [],
   "source": [
    "geojson_zips"
   ]
  },
  {
   "cell_type": "code",
   "execution_count": null,
   "id": "3fe2ca40",
   "metadata": {
    "scrolled": true
   },
   "outputs": [],
   "source": [
    "chi_map = folium.Map(location=[41.881832, -87.623177], tiles='openstreetmap', zoom_start=11)\n",
    "\n",
    "folium.GeoJson(zips).add_to(chi_map)"
   ]
  },
  {
   "cell_type": "code",
   "execution_count": null,
   "id": "cfac730e",
   "metadata": {},
   "outputs": [],
   "source": [
    "chi_map"
   ]
  },
  {
   "cell_type": "code",
   "execution_count": null,
   "id": "8fd5dfbd",
   "metadata": {},
   "outputs": [],
   "source": []
  },
  {
   "cell_type": "code",
   "execution_count": null,
   "id": "0ee9997a",
   "metadata": {},
   "outputs": [],
   "source": []
  },
  {
   "cell_type": "code",
   "execution_count": null,
   "id": "1bf2fe04",
   "metadata": {},
   "outputs": [],
   "source": []
  },
  {
   "cell_type": "code",
   "execution_count": null,
   "id": "cd0f76f8",
   "metadata": {},
   "outputs": [],
   "source": [
    "zips.keys()"
   ]
  },
  {
   "cell_type": "code",
   "execution_count": null,
   "id": "40d7b455",
   "metadata": {},
   "outputs": [],
   "source": [
    "len(zips['features'])"
   ]
  },
  {
   "cell_type": "code",
   "execution_count": null,
   "id": "7b1d6b95",
   "metadata": {},
   "outputs": [],
   "source": [
    "zips['features'][0].keys()"
   ]
  },
  {
   "cell_type": "code",
   "execution_count": null,
   "id": "8c09980c",
   "metadata": {},
   "outputs": [],
   "source": [
    "zips['features'][0]['properties']['zip']"
   ]
  },
  {
   "cell_type": "code",
   "execution_count": null,
   "id": "57ef7bf7",
   "metadata": {},
   "outputs": [],
   "source": [
    "geojson_zips = [zips['features'][i]['properties']['zip'] for i in range(len(zips['features']))]"
   ]
  },
  {
   "cell_type": "code",
   "execution_count": null,
   "id": "2916ddf9",
   "metadata": {},
   "outputs": [],
   "source": [
    "by_zip_1 = pd.read_excel('./datasets/2020q3_where_workers_work.xls', sheet_name='Table9',\n",
    "                         #header=[3,4,5],\n",
    "                         header=5,\n",
    "                         nrows=1,\n",
    "                         usecols='E,G,I,K')\n",
    "by_zip_1"
   ]
  },
  {
   "cell_type": "code",
   "execution_count": null,
   "id": "a8c42c96",
   "metadata": {},
   "outputs": [],
   "source": [
    "with open('./datasets/zip_codes.geojson') as f:\n",
    "    zips = json.load(f)"
   ]
  },
  {
   "cell_type": "code",
   "execution_count": null,
   "id": "4151feb2",
   "metadata": {},
   "outputs": [],
   "source": [
    "chi_map = folium.Map(location=[41.881832, -87.623177], tiles='openstreetmap', zoom_start=11)\n",
    "\n",
    "folium.Choropleth(\n",
    "    geo_data=zips,\n",
    "    name=\"choropleth\",\n",
    "    data=by_zip_1,\n",
    "    #columns=[60603,60604,60601,60602],\n",
    "    #key_on=\"features.properties\",\n",
    "    fill_color=\"YlGn\",\n",
    "    fill_opacity=0.7,\n",
    "    line_opacity=0.2,\n",
    "    legend_name=\"Number of Jobs\",\n",
    ").add_to(chi_map)\n",
    "\n",
    "folium.LayerControl().add_to(chi_map);"
   ]
  },
  {
   "cell_type": "code",
   "execution_count": null,
   "id": "d0570c9c",
   "metadata": {},
   "outputs": [],
   "source": [
    "chi_map"
   ]
  },
  {
   "cell_type": "code",
   "execution_count": null,
   "id": "8ac8ab58",
   "metadata": {},
   "outputs": [],
   "source": []
  },
  {
   "cell_type": "code",
   "execution_count": null,
   "id": "33d4ad16",
   "metadata": {},
   "outputs": [],
   "source": [
    "with open('./datasets/zip_codes.json') as f:\n",
    "    zips = json.load(f)"
   ]
  },
  {
   "cell_type": "code",
   "execution_count": null,
   "id": "22eb68d0",
   "metadata": {},
   "outputs": [],
   "source": [
    "zips.keys()"
   ]
  },
  {
   "cell_type": "code",
   "execution_count": null,
   "id": "fe079085",
   "metadata": {},
   "outputs": [],
   "source": [
    "zips['data']"
   ]
  },
  {
   "cell_type": "code",
   "execution_count": null,
   "id": "e06e3cfb",
   "metadata": {},
   "outputs": [],
   "source": []
  },
  {
   "cell_type": "code",
   "execution_count": null,
   "id": "8313309d",
   "metadata": {},
   "outputs": [],
   "source": []
  },
  {
   "cell_type": "code",
   "execution_count": null,
   "id": "ac42832e",
   "metadata": {},
   "outputs": [],
   "source": []
  },
  {
   "cell_type": "code",
   "execution_count": null,
   "id": "1f048757",
   "metadata": {},
   "outputs": [],
   "source": [
    "chi_map = folium.Map(location=[41.881832, -87.623177], tiles='openstreetmap', zoom_start=11)\n",
    "\n",
    "folium.Choropleth(\n",
    "    geo_data=zips,\n",
    "    #name=\"choropleth\",\n",
    "    #data=by_zip_1,\n",
    "    #columns=[60603,60604,60601,60602],\n",
    "    #key_on=\"features.properties\",\n",
    "    #fill_color=\"YlGn\",\n",
    "    #fill_opacity=0.7,\n",
    "    #line_opacity=0.2,\n",
    "    #legend_name=\"Number of Jobs\",\n",
    ").add_to(chi_map)\n",
    "\n",
    "folium.LayerControl().add_to(chi_map);"
   ]
  },
  {
   "cell_type": "code",
   "execution_count": null,
   "id": "68f3eebb",
   "metadata": {},
   "outputs": [],
   "source": []
  }
 ],
 "metadata": {
  "kernelspec": {
   "display_name": "Python 3",
   "language": "python",
   "name": "python3"
  },
  "language_info": {
   "codemirror_mode": {
    "name": "ipython",
    "version": 3
   },
   "file_extension": ".py",
   "mimetype": "text/x-python",
   "name": "python",
   "nbconvert_exporter": "python",
   "pygments_lexer": "ipython3",
   "version": "3.8.10"
  }
 },
 "nbformat": 4,
 "nbformat_minor": 5
}
