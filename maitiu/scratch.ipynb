{
 "cells": [
  {
   "cell_type": "code",
   "execution_count": 1,
   "id": "cd763afa",
   "metadata": {},
   "outputs": [],
   "source": [
    "import pandas as pd\n",
    "import json\n",
    "import folium"
   ]
  },
  {
   "cell_type": "code",
   "execution_count": 2,
   "id": "433cd153",
   "metadata": {},
   "outputs": [],
   "source": [
    "pop_2019 = pd.read_csv('./datasets/Chicago_Population_Counts.csv', usecols = [0,1,2,3], skiprows=61)"
   ]
  },
  {
   "cell_type": "code",
   "execution_count": 3,
   "id": "99ad16dc",
   "metadata": {},
   "outputs": [],
   "source": [
    "pop_2019.drop(columns=['Citywide', '2019'], inplace=True)\n",
    "pop_2019.columns=['zip', 'pop']"
   ]
  },
  {
   "cell_type": "code",
   "execution_count": 4,
   "id": "e012a40f",
   "metadata": {},
   "outputs": [],
   "source": [
    "with open('./datasets/zip_codes.geojson') as f:\n",
    "    zips_map = json.load(f)"
   ]
  },
  {
   "cell_type": "code",
   "execution_count": 5,
   "id": "301305da",
   "metadata": {},
   "outputs": [
    {
     "data": {
      "text/plain": [
       "set()"
      ]
     },
     "execution_count": 5,
     "metadata": {},
     "output_type": "execute_result"
    }
   ],
   "source": [
    "#checking that the zips are the same\n",
    "geojson_zips = sorted([int(zips_map['features'][i]['properties']['zip']) for i in range(len(zips_map['features']))])\n",
    "pop_zips = pop_2019['zip']\n",
    "set(geojson_zips) ^ set(pop_zips)"
   ]
  },
  {
   "cell_type": "code",
   "execution_count": 18,
   "id": "e7b2375d",
   "metadata": {},
   "outputs": [],
   "source": [
    "pop_2019.loc[:, 'zip'] = pop_2019['zip'].astype(str)"
   ]
  },
  {
   "cell_type": "code",
   "execution_count": 37,
   "id": "aeb3617d",
   "metadata": {},
   "outputs": [],
   "source": [
    "with open('./datasets/CTA_RailLines.geojson') as f:\n",
    "    rail_map = json.load(f)\n",
    "with open('./datasets/CTA_BusRoutes.geojson') as f:\n",
    "    bus_route_map = json.load(f)"
   ]
  },
  {
   "cell_type": "code",
   "execution_count": 44,
   "id": "9e765ff9",
   "metadata": {},
   "outputs": [],
   "source": [
    "quantiles = list(pop_2019['pop'].quantile([0,0.25,0.5,0.75,0.98,1]))\n",
    "\n",
    "m = folium.Map(location=[41.881832, -87.623177], tiles='openstreetmap', zoom_start=10)\n",
    "\n",
    "folium.Choropleth(\n",
    "    geo_data=zips_map,\n",
    "    data=pop_2019,\n",
    "    columns=['zip', 'pop'],\n",
    "    key_on='properties.zip',\n",
    "    name='Population',\n",
    "    fill_color='YlGn',\n",
    "    fill_opacity=0.7,\n",
    "    line_opacity=0.3,\n",
    "    bins=quantiles,\n",
    "    legend_name=f'Population by ZIP Code in 2019',\n",
    ").add_to(m)\n",
    "\n",
    "folium.GeoJson(rail_map, name='Train Lines').add_to(m)\n",
    "\n",
    "folium.GeoJson(bus_route_map, name='Bus Routes', show=False).add_to(m)\n",
    "\n",
    "folium.LayerControl().add_to(m)\n",
    "\n",
    "m.save(f'population_with_transit_lines.html')"
   ]
  },
  {
   "cell_type": "code",
   "execution_count": null,
   "id": "e1b94bb1",
   "metadata": {},
   "outputs": [],
   "source": []
  }
 ],
 "metadata": {
  "kernelspec": {
   "display_name": "Python 3",
   "language": "python",
   "name": "python3"
  },
  "language_info": {
   "codemirror_mode": {
    "name": "ipython",
    "version": 3
   },
   "file_extension": ".py",
   "mimetype": "text/x-python",
   "name": "python",
   "nbconvert_exporter": "python",
   "pygments_lexer": "ipython3",
   "version": "3.8.10"
  }
 },
 "nbformat": 4,
 "nbformat_minor": 5
}
