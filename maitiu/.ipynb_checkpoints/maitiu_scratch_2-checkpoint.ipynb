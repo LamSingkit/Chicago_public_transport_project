{
 "cells": [
  {
   "cell_type": "code",
   "execution_count": null,
   "id": "31119041",
   "metadata": {},
   "outputs": [],
   "source": [
    "import pandas as pd\n",
    "import folium\n",
    "import json\n",
    "from folium import plugins"
   ]
  },
  {
   "cell_type": "code",
   "execution_count": null,
   "id": "481d4994",
   "metadata": {},
   "outputs": [],
   "source": [
    "with open('./datasets/CTA_BusRoutes/') as f:\n",
    "    bus_routes = json.load(f)"
   ]
  },
  {
   "cell_type": "code",
   "execution_count": null,
   "id": "5e24e3df",
   "metadata": {},
   "outputs": [],
   "source": [
    "bus_routes.keys()"
   ]
  },
  {
   "cell_type": "code",
   "execution_count": null,
   "id": "7ba9fbb6",
   "metadata": {},
   "outputs": [],
   "source": [
    "bus_routes['features']"
   ]
  },
  {
   "cell_type": "code",
   "execution_count": null,
   "id": "d411ba87",
   "metadata": {},
   "outputs": [],
   "source": [
    "chi_map = folium.Map(location=[41.881832, -87.623177], tiles='Stamen Toner', zoom_start=11)\n",
    "\n",
    "folium.GeoJson(bus_routes).add_to(chi_map);"
   ]
  },
  {
   "cell_type": "code",
   "execution_count": null,
   "id": "55da73f4",
   "metadata": {},
   "outputs": [],
   "source": [
    "chi_map"
   ]
  },
  {
   "cell_type": "code",
   "execution_count": null,
   "id": "459011e5",
   "metadata": {},
   "outputs": [],
   "source": []
  }
 ],
 "metadata": {
  "kernelspec": {
   "display_name": "Python 3",
   "language": "python",
   "name": "python3"
  },
  "language_info": {
   "codemirror_mode": {
    "name": "ipython",
    "version": 3
   },
   "file_extension": ".py",
   "mimetype": "text/x-python",
   "name": "python",
   "nbconvert_exporter": "python",
   "pygments_lexer": "ipython3",
   "version": "3.8.10"
  }
 },
 "nbformat": 4,
 "nbformat_minor": 5
}
