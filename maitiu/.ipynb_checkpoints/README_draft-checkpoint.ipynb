{
 "cells": [
  {
   "cell_type": "markdown",
   "id": "05dc497b",
   "metadata": {},
   "source": [
    "# Project 5: Recommendations for Increasing Access to Public Transportation in Chicago\n",
    "##### Aug 22, 2021 - Shengjie Lin, Afsara Ali, Brianna Sazone, Maitiu Sexton\n",
    "\n",
    "## Problem Statement: Where would be the most effective place(s) to run additional bus/train service?\n",
    "#### (Recommendations from us, a team of consultants hired by the CTA to decide where new routes or increased service should be instated)\n",
    "This will be evaluated based on:\n",
    "- Historical and predicted ridership levels\n",
    "- Locations of employment\n",
    "- Current access to public transit\n",
    "- Population density\n",
    "\n",
    "## Background\n",
    "With a budget of \\\\$1.65 billion for the year of 2021 (up \\\\$350 million from 2011), along with the gradual reopening of the city as our safety procedures regarding COVID-19 have become well-integrated into our operations, it is time to start thinking proactively as to what we can do to get _tomorrow's_ Chicago ready for _today's_ new normal. In order to most effectively utilize our budget, we must identify exactly where it would be most effective to invest in new or increased transit service. This will be determined by the following factors:\n",
    "1. How do we define current demand?\\\n",
    "    a. High ridership\\\n",
    "    b. Low ridership\n",
    "2. Where are employment opportunities concentrated?\n",
    "3. Where do people live?\n",
    "\n",
    "It is often naïvely assumed that low ridership means low demand. It has been shown by many sources [(1)](https://fas.org/sgp/crs/misc/R45144.pdf) [(2)](https://transweb.sjsu.edu/research/Investigating-Determining-Factors-Transit-Travel-Demand-Bus-Mode-US-Metropolitan-Statistical-Areas) [(3)](https://www.transit.dot.gov/TOD) [(4)](https://www.sciencedirect.com/science/article/pii/S0143622817307166) that quite the opposite is true. Given this assumption, we must look at neighborhoods where a lack of service exists, as measured by the ridership of routes going through those ares. \n",
    "\n",
    "In addition to this, Chicago has the vast majority of its rail system arranged in a hub-and-spoke system radiating from the central business district. While it is true that there is a high concentration of employment in the downtown area (which has shown a strong increase over the past 20 years), this is created, at least in part, by the very feedback loop of the public transit system surrounding it. It is relatively easy to get to and from downtown, but if your commute deviates from this pattern, it can take nearly twice as long. For example, the trip from the Irving Park Blue Line station to Clark/Lake (downtown) during morning rush hour takes approximately 23 minutes [(5)](https://www.google.com/maps/dir/Irving+Park+Blue+Line+Station,+Chicago,+IL/Clark%2FLake,+Chicago,+IL+60601/@41.9193017,-87.7505812,12z/data=!3m1!4b1!4m18!4m17!1m5!1m1!1s0x880fcdb74d81cf1f:0xcbaec9c7c47e6e51!2m2!1d-87.7273044!2d41.9520754!1m5!1m1!1s0x880e2cb07dc3de1d:0x478016ed528b9795!2m2!1d-87.6313669!2d41.8857483!2m3!6e0!7e2!8j1629705600!3e3). To start from the same location and go to Loyola University Chicago, which is roughly two-thirds of the distance (as the crow flies), takes nearly an hour [(6)](https://www.google.com/maps/dir/Irving+Park+Blue+Line+Station,+Chicago,+IL/Loyola+University+Chicago,+West+Sheridan+Road,+Chicago,+IL/@41.9425885,-87.749084,12z/data=!3m1!4b1!4m18!4m17!1m5!1m1!1s0x880fcdb74d81cf1f:0xcbaec9c7c47e6e51!2m2!1d-87.7273044!2d41.9520754!1m5!1m1!1s0x880fd10a9033c5ff:0xe613cd876e617e4c!2m2!1d-87.6582585!2d41.9987765!2m3!6e0!7e2!8j1629705600!3e3). Given this, as well as the fact that not all people work downtown, we have to take into consideration the location of people's employment.\n",
    "\n",
    "Lastly, it behooves us to consider the current population density in each neighborhood, which we will be grouping by ZIP code for consistency's sake. We must find a balance between the fact that more people in a neighborhood means that more people will need access to public transit, along with the understanding that the population density of a particular neighborhood is heavily influenced by the public transportation available within it."
   ]
  },
  {
   "cell_type": "markdown",
   "id": "4daced2b",
   "metadata": {},
   "source": []
  },
  {
   "cell_type": "markdown",
   "id": "92079e3f",
   "metadata": {},
   "source": []
  },
  {
   "cell_type": "code",
   "execution_count": null,
   "id": "8f0c67d3",
   "metadata": {},
   "outputs": [],
   "source": []
  }
 ],
 "metadata": {
  "kernelspec": {
   "display_name": "Python 3",
   "language": "python",
   "name": "python3"
  },
  "language_info": {
   "codemirror_mode": {
    "name": "ipython",
    "version": 3
   },
   "file_extension": ".py",
   "mimetype": "text/x-python",
   "name": "python",
   "nbconvert_exporter": "python",
   "pygments_lexer": "ipython3",
   "version": "3.8.10"
  }
 },
 "nbformat": 4,
 "nbformat_minor": 5
}
