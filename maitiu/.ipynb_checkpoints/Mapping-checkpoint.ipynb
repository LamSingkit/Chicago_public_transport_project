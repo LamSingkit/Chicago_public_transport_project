{
 "cells": [
  {
   "cell_type": "code",
   "execution_count": 1,
   "id": "39af33dd",
   "metadata": {},
   "outputs": [],
   "source": [
    "import pandas as pd\n",
    "import folium\n",
    "import json"
   ]
  },
  {
   "cell_type": "code",
   "execution_count": 2,
   "id": "26e3751b",
   "metadata": {},
   "outputs": [],
   "source": [
    "jobs = pd.read_csv('./datasets/jobs_data_cleaned.csv', index_col=0)\n",
    "jobs = jobs.T.reset_index(level=0)\n",
    "jobs.columns = ['zips'] + ([i for i in range(2001,2021)])"
   ]
  },
  {
   "cell_type": "code",
   "execution_count": 3,
   "id": "a4bab6b6",
   "metadata": {},
   "outputs": [],
   "source": [
    "with open('./datasets/zips_map_cleaned.json') as f:\n",
    "    zips_map = json.load(f)"
   ]
  },
  {
   "cell_type": "code",
   "execution_count": 6,
   "id": "93f2bfa2",
   "metadata": {},
   "outputs": [],
   "source": [
    "def generate_map(year, divisions=[0,0.25,0.5,0.75,0.98,1]):\n",
    "    if not 3 < len(divisions) < 11:\n",
    "        return 'divisions must be a list with length between 4 and 10' \n",
    "\n",
    "    quantiles = list(jobs[year].quantile(divisions))\n",
    "\n",
    "    m = folium.Map(location=[41.881832, -87.623177], tiles='openstreetmap', zoom_start=11)\n",
    "\n",
    "    folium.Choropleth(\n",
    "        geo_data=zips_map,\n",
    "        name='year',\n",
    "        data=jobs,\n",
    "        columns=['zips', year],\n",
    "        key_on='properties.zip',\n",
    "        fill_color='YlGn',\n",
    "        fill_opacity=0.7,\n",
    "        line_opacity=0.3,\n",
    "        bins=quantiles,\n",
    "        legend_name=f'Number of Jobs by ZIP Code in {year}',\n",
    "    ).add_to(m)\n",
    "    \n",
    "    m.save(f'../jobs_maps/jobs_{year}.html')"
   ]
  },
  {
   "cell_type": "code",
   "execution_count": 7,
   "id": "93c2170b",
   "metadata": {},
   "outputs": [
    {
     "ename": "FileNotFoundError",
     "evalue": "[Errno 2] No such file or directory: '../jobs_maps/jobs_2001.html'",
     "output_type": "error",
     "traceback": [
      "\u001b[0;31m---------------------------------------------------------------------------\u001b[0m",
      "\u001b[0;31mFileNotFoundError\u001b[0m                         Traceback (most recent call last)",
      "\u001b[0;32m<ipython-input-7-277dca9f8dd6>\u001b[0m in \u001b[0;36m<module>\u001b[0;34m\u001b[0m\n\u001b[1;32m      1\u001b[0m \u001b[0;32mfor\u001b[0m \u001b[0mi\u001b[0m \u001b[0;32min\u001b[0m \u001b[0mrange\u001b[0m\u001b[0;34m(\u001b[0m\u001b[0;36m2001\u001b[0m\u001b[0;34m,\u001b[0m\u001b[0;36m2021\u001b[0m\u001b[0;34m)\u001b[0m\u001b[0;34m:\u001b[0m\u001b[0;34m\u001b[0m\u001b[0;34m\u001b[0m\u001b[0m\n\u001b[0;32m----> 2\u001b[0;31m     \u001b[0mgenerate_map\u001b[0m\u001b[0;34m(\u001b[0m\u001b[0mi\u001b[0m\u001b[0;34m)\u001b[0m\u001b[0;34m\u001b[0m\u001b[0;34m\u001b[0m\u001b[0m\n\u001b[0m",
      "\u001b[0;32m<ipython-input-6-4973cbbfb777>\u001b[0m in \u001b[0;36mgenerate_map\u001b[0;34m(year, divisions)\u001b[0m\n\u001b[1;32m     20\u001b[0m     ).add_to(m)\n\u001b[1;32m     21\u001b[0m \u001b[0;34m\u001b[0m\u001b[0m\n\u001b[0;32m---> 22\u001b[0;31m     \u001b[0mm\u001b[0m\u001b[0;34m.\u001b[0m\u001b[0msave\u001b[0m\u001b[0;34m(\u001b[0m\u001b[0;34mf'../jobs_maps/jobs_{year}.html'\u001b[0m\u001b[0;34m)\u001b[0m\u001b[0;34m\u001b[0m\u001b[0;34m\u001b[0m\u001b[0m\n\u001b[0m",
      "\u001b[0;32m~/opt/anaconda3/lib/python3.8/site-packages/branca/element.py\u001b[0m in \u001b[0;36msave\u001b[0;34m(self, outfile, close_file, **kwargs)\u001b[0m\n\u001b[1;32m    160\u001b[0m         \"\"\"\n\u001b[1;32m    161\u001b[0m         \u001b[0;32mif\u001b[0m \u001b[0misinstance\u001b[0m\u001b[0;34m(\u001b[0m\u001b[0moutfile\u001b[0m\u001b[0;34m,\u001b[0m \u001b[0mstr\u001b[0m\u001b[0;34m)\u001b[0m \u001b[0;32mor\u001b[0m \u001b[0misinstance\u001b[0m\u001b[0;34m(\u001b[0m\u001b[0moutfile\u001b[0m\u001b[0;34m,\u001b[0m \u001b[0mbytes\u001b[0m\u001b[0;34m)\u001b[0m\u001b[0;34m:\u001b[0m\u001b[0;34m\u001b[0m\u001b[0;34m\u001b[0m\u001b[0m\n\u001b[0;32m--> 162\u001b[0;31m             \u001b[0mfid\u001b[0m \u001b[0;34m=\u001b[0m \u001b[0mopen\u001b[0m\u001b[0;34m(\u001b[0m\u001b[0moutfile\u001b[0m\u001b[0;34m,\u001b[0m \u001b[0;34m'wb'\u001b[0m\u001b[0;34m)\u001b[0m\u001b[0;34m\u001b[0m\u001b[0;34m\u001b[0m\u001b[0m\n\u001b[0m\u001b[1;32m    163\u001b[0m         \u001b[0;32melse\u001b[0m\u001b[0;34m:\u001b[0m\u001b[0;34m\u001b[0m\u001b[0;34m\u001b[0m\u001b[0m\n\u001b[1;32m    164\u001b[0m             \u001b[0mfid\u001b[0m \u001b[0;34m=\u001b[0m \u001b[0moutfile\u001b[0m\u001b[0;34m\u001b[0m\u001b[0;34m\u001b[0m\u001b[0m\n",
      "\u001b[0;31mFileNotFoundError\u001b[0m: [Errno 2] No such file or directory: '../jobs_maps/jobs_2001.html'"
     ]
    }
   ],
   "source": [
    "for i in range(2001,2021):\n",
    "    generate_map(i)"
   ]
  },
  {
   "cell_type": "markdown",
   "id": "b9993368",
   "metadata": {},
   "source": [
    "quantiles = list(jobs[2001].quantile([0,0.25,0.5,0.75,0.98,1]))\n",
    "\n",
    "m = folium.Map(location=[41.881832, -87.623177], tiles='openstreetmap', zoom_start=11)\n",
    "\n",
    "folium.Choropleth(\n",
    "    geo_data=zips_map,\n",
    "    name='2001',\n",
    "    data=jobs,\n",
    "    columns=['zips', 2001],\n",
    "    key_on='properties.zip',\n",
    "    fill_color='YlGn',\n",
    "    fill_opacity=0.7,\n",
    "    line_opacity=0.3,\n",
    "    bins=quantiles,\n",
    "    show=False\n",
    ").add_to(m)\n",
    "\n",
    "m"
   ]
  },
  {
   "cell_type": "markdown",
   "id": "85afd0f2",
   "metadata": {},
   "source": [
    "#haven't been able to get them all into one\n",
    "\n",
    "\n",
    "with open('./datasets/Boundaries - Neighborhoods.geojson') as f:\n",
    "    neighborhoods = json.load(f)\n",
    "\n",
    "quantiles = list(jobs[2001].quantile([0,0.25,0.5,0.75,0.98,1]))\n",
    "\n",
    "m = folium.Map(location=[41.881832, -87.623177], tiles='openstreetmap', zoom_start=11)\n",
    "\n",
    "#folium.GeoJson(neighborhoods, style_function = lambda x: {'fillColor': '#000000',\n",
    "                                                          #'fillOpacity': 0,\n",
    "                                                          #'weight': 0}).add_to(m)\n",
    "\n",
    "        \n",
    "#folium.Choropleth(neighborhoods, fill_opacity=0, line_opacity=0).add_to(m)\n",
    "        \n",
    "test1 = folium.Choropleth(\n",
    "    geo_data=zips_map,\n",
    "    name='2001',\n",
    "    data=jobs,\n",
    "    columns=['zips', 2001],\n",
    "    key_on='properties.zip',\n",
    "    fill_color='YlGn',\n",
    "    fill_opacity=0.7,\n",
    "    line_opacity=0.3,\n",
    "    bins=quantiles,\n",
    "    show=False\n",
    ").add_to(m)\n",
    "\n",
    "test2 = folium.Choropleth(\n",
    "    geo_data=zips_map,\n",
    "    name='2002',\n",
    "    data=jobs,\n",
    "    columns=['zips', 2002],\n",
    "    key_on='properties.zip',\n",
    "    fill_color='YlGn',\n",
    "    fill_opacity=0.7,\n",
    "    line_opacity=0.3,\n",
    "    bins=list(jobs[2002].quantile([0,0.25,0.5,0.75,0.98,1])),\n",
    "    show=False\n",
    ").add_to(m)\n",
    "\n",
    "folium.LayerControl().add_to(m)\n",
    "\n",
    "m.add_child(test2)\n",
    "m"
   ]
  },
  {
   "cell_type": "code",
   "execution_count": null,
   "id": "06d464cd",
   "metadata": {},
   "outputs": [],
   "source": []
  }
 ],
 "metadata": {
  "kernelspec": {
   "display_name": "Python 3",
   "language": "python",
   "name": "python3"
  },
  "language_info": {
   "codemirror_mode": {
    "name": "ipython",
    "version": 3
   },
   "file_extension": ".py",
   "mimetype": "text/x-python",
   "name": "python",
   "nbconvert_exporter": "python",
   "pygments_lexer": "ipython3",
   "version": "3.8.10"
  }
 },
 "nbformat": 4,
 "nbformat_minor": 5
}
