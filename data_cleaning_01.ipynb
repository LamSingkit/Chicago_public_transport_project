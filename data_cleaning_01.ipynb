{
 "cells": [
  {
   "cell_type": "markdown",
   "metadata": {},
   "source": [
    "#### **Imports**"
   ]
  },
  {
   "cell_type": "code",
   "execution_count": 36,
   "metadata": {},
   "outputs": [],
   "source": [
    "import pandas as pd\n",
    "import numpy as np\n",
    "import seaborn as sns\n",
    "import matplotlib.pyplot as plt\n",
    "import time\n",
    "import datetime"
   ]
  },
  {
   "cell_type": "markdown",
   "metadata": {},
   "source": [
    "##### **Read in CSV**"
   ]
  },
  {
   "cell_type": "code",
   "execution_count": 37,
   "metadata": {},
   "outputs": [
    {
     "data": {
      "text/html": [
       "<div>\n",
       "<style scoped>\n",
       "    .dataframe tbody tr th:only-of-type {\n",
       "        vertical-align: middle;\n",
       "    }\n",
       "\n",
       "    .dataframe tbody tr th {\n",
       "        vertical-align: top;\n",
       "    }\n",
       "\n",
       "    .dataframe thead th {\n",
       "        text-align: right;\n",
       "    }\n",
       "</style>\n",
       "<table border=\"1\" class=\"dataframe\">\n",
       "  <thead>\n",
       "    <tr style=\"text-align: right;\">\n",
       "      <th></th>\n",
       "      <th>stop_id</th>\n",
       "      <th>on_street</th>\n",
       "      <th>cross_street</th>\n",
       "      <th>routes</th>\n",
       "      <th>boardings</th>\n",
       "      <th>alightings</th>\n",
       "      <th>month_beginning</th>\n",
       "      <th>daytype</th>\n",
       "      <th>location</th>\n",
       "    </tr>\n",
       "  </thead>\n",
       "  <tbody>\n",
       "    <tr>\n",
       "      <th>0</th>\n",
       "      <td>1</td>\n",
       "      <td>JACKSON</td>\n",
       "      <td>AUSTIN</td>\n",
       "      <td>126</td>\n",
       "      <td>183.4</td>\n",
       "      <td>150.0</td>\n",
       "      <td>10/01/2012</td>\n",
       "      <td>Weekday</td>\n",
       "      <td>(41.87632184, -87.77410482)</td>\n",
       "    </tr>\n",
       "    <tr>\n",
       "      <th>1</th>\n",
       "      <td>2</td>\n",
       "      <td>JACKSON</td>\n",
       "      <td>MAYFIELD (EXTENDED)</td>\n",
       "      <td>126</td>\n",
       "      <td>5.3</td>\n",
       "      <td>0.2</td>\n",
       "      <td>10/01/2012</td>\n",
       "      <td>Weekday</td>\n",
       "      <td>(41.87706679, -87.77131794)</td>\n",
       "    </tr>\n",
       "    <tr>\n",
       "      <th>2</th>\n",
       "      <td>3</td>\n",
       "      <td>JACKSON</td>\n",
       "      <td>MENARD</td>\n",
       "      <td>126</td>\n",
       "      <td>8.3</td>\n",
       "      <td>0.7</td>\n",
       "      <td>10/01/2012</td>\n",
       "      <td>Weekday</td>\n",
       "      <td>(41.87695725, -87.76975039)</td>\n",
       "    </tr>\n",
       "    <tr>\n",
       "      <th>3</th>\n",
       "      <td>4</td>\n",
       "      <td>JACKSON</td>\n",
       "      <td>5700 WEST</td>\n",
       "      <td>126</td>\n",
       "      <td>17.9</td>\n",
       "      <td>3.0</td>\n",
       "      <td>10/01/2012</td>\n",
       "      <td>Weekday</td>\n",
       "      <td>(41.87702418, -87.76745055)</td>\n",
       "    </tr>\n",
       "    <tr>\n",
       "      <th>4</th>\n",
       "      <td>6</td>\n",
       "      <td>JACKSON</td>\n",
       "      <td>LOTUS</td>\n",
       "      <td>126</td>\n",
       "      <td>74.0</td>\n",
       "      <td>11.2</td>\n",
       "      <td>10/01/2012</td>\n",
       "      <td>Weekday</td>\n",
       "      <td>(41.876513, -87.761446)</td>\n",
       "    </tr>\n",
       "  </tbody>\n",
       "</table>\n",
       "</div>"
      ],
      "text/plain": [
       "   stop_id on_street         cross_street routes  boardings  alightings  \\\n",
       "0        1   JACKSON               AUSTIN    126      183.4       150.0   \n",
       "1        2   JACKSON  MAYFIELD (EXTENDED)    126        5.3         0.2   \n",
       "2        3   JACKSON               MENARD    126        8.3         0.7   \n",
       "3        4   JACKSON            5700 WEST    126       17.9         3.0   \n",
       "4        6   JACKSON                LOTUS    126       74.0        11.2   \n",
       "\n",
       "  month_beginning  daytype                     location  \n",
       "0      10/01/2012  Weekday  (41.87632184, -87.77410482)  \n",
       "1      10/01/2012  Weekday  (41.87706679, -87.77131794)  \n",
       "2      10/01/2012  Weekday  (41.87695725, -87.76975039)  \n",
       "3      10/01/2012  Weekday  (41.87702418, -87.76745055)  \n",
       "4      10/01/2012  Weekday      (41.876513, -87.761446)  "
      ]
     },
     "execution_count": 37,
     "metadata": {},
     "output_type": "execute_result"
    }
   ],
   "source": [
    "df = pd.read_csv('CTA_-_Ridership_-_Avg._Weekday_Bus_Stop_Boardings_in_October_2012.csv')\n",
    "# display first 5 rows of dataframe\n",
    "df.head()"
   ]
  },
  {
   "cell_type": "code",
   "execution_count": 38,
   "metadata": {},
   "outputs": [
    {
     "data": {
      "text/plain": [
       "(11593, 9)"
      ]
     },
     "execution_count": 38,
     "metadata": {},
     "output_type": "execute_result"
    }
   ],
   "source": [
    "df.shape"
   ]
  },
  {
   "cell_type": "markdown",
   "metadata": {},
   "source": [
    "##### **Evaluate for null values**"
   ]
  },
  {
   "cell_type": "code",
   "execution_count": 39,
   "metadata": {},
   "outputs": [
    {
     "data": {
      "text/html": [
       "<div>\n",
       "<style scoped>\n",
       "    .dataframe tbody tr th:only-of-type {\n",
       "        vertical-align: middle;\n",
       "    }\n",
       "\n",
       "    .dataframe tbody tr th {\n",
       "        vertical-align: top;\n",
       "    }\n",
       "\n",
       "    .dataframe thead th {\n",
       "        text-align: right;\n",
       "    }\n",
       "</style>\n",
       "<table border=\"1\" class=\"dataframe\">\n",
       "  <thead>\n",
       "    <tr style=\"text-align: right;\">\n",
       "      <th></th>\n",
       "      <th>stop_id</th>\n",
       "      <th>on_street</th>\n",
       "      <th>cross_street</th>\n",
       "      <th>routes</th>\n",
       "      <th>boardings</th>\n",
       "      <th>alightings</th>\n",
       "      <th>month_beginning</th>\n",
       "      <th>daytype</th>\n",
       "      <th>location</th>\n",
       "    </tr>\n",
       "  </thead>\n",
       "  <tbody>\n",
       "    <tr>\n",
       "      <th>6642</th>\n",
       "      <td>9267</td>\n",
       "      <td>BELMONT</td>\n",
       "      <td>KEELER</td>\n",
       "      <td>NaN</td>\n",
       "      <td>62.4</td>\n",
       "      <td>35.2</td>\n",
       "      <td>10/01/2012</td>\n",
       "      <td>Weekday</td>\n",
       "      <td>(41.93897, -87.73212)</td>\n",
       "    </tr>\n",
       "    <tr>\n",
       "      <th>9211</th>\n",
       "      <td>12548</td>\n",
       "      <td>ADDISON</td>\n",
       "      <td>LAKE SHORE</td>\n",
       "      <td>NaN</td>\n",
       "      <td>2.1</td>\n",
       "      <td>185.5</td>\n",
       "      <td>10/01/2012</td>\n",
       "      <td>Weekday</td>\n",
       "      <td>(41.94853216, -87.64355208)</td>\n",
       "    </tr>\n",
       "  </tbody>\n",
       "</table>\n",
       "</div>"
      ],
      "text/plain": [
       "      stop_id on_street cross_street routes  boardings  alightings  \\\n",
       "6642     9267   BELMONT       KEELER    NaN       62.4        35.2   \n",
       "9211    12548   ADDISON   LAKE SHORE    NaN        2.1       185.5   \n",
       "\n",
       "     month_beginning  daytype                     location  \n",
       "6642      10/01/2012  Weekday        (41.93897, -87.73212)  \n",
       "9211      10/01/2012  Weekday  (41.94853216, -87.64355208)  "
      ]
     },
     "execution_count": 39,
     "metadata": {},
     "output_type": "execute_result"
    }
   ],
   "source": [
    "df[df['routes'].isna()]"
   ]
  },
  {
   "cell_type": "code",
   "execution_count": 40,
   "metadata": {},
   "outputs": [
    {
     "data": {
      "text/plain": [
       "77            150\n",
       "77,151,156      9\n",
       "151,156         1\n",
       "Name: routes, dtype: int64"
      ]
     },
     "execution_count": 40,
     "metadata": {},
     "output_type": "execute_result"
    }
   ],
   "source": [
    "df[df['on_street'] == 'BELMONT']['routes'].value_counts()"
   ]
  },
  {
   "cell_type": "markdown",
   "metadata": {},
   "source": [
    "##### **replace null values**"
   ]
  },
  {
   "cell_type": "code",
   "execution_count": 41,
   "metadata": {},
   "outputs": [],
   "source": [
    "df.loc[6642, 'routes'] = '77'\n",
    "df.loc[9211, 'routes'] = '152'"
   ]
  },
  {
   "cell_type": "code",
   "execution_count": 42,
   "metadata": {},
   "outputs": [
    {
     "data": {
      "text/plain": [
       "stop_id            0\n",
       "on_street          0\n",
       "cross_street       0\n",
       "routes             0\n",
       "boardings          0\n",
       "alightings         0\n",
       "month_beginning    0\n",
       "daytype            0\n",
       "location           0\n",
       "dtype: int64"
      ]
     },
     "execution_count": 42,
     "metadata": {},
     "output_type": "execute_result"
    }
   ],
   "source": [
    "# sanity check\n",
    "df.isna().sum()"
   ]
  },
  {
   "cell_type": "markdown",
   "metadata": {},
   "source": [
    "##### **drop month_beginning & daytype columns**"
   ]
  },
  {
   "cell_type": "code",
   "execution_count": 43,
   "metadata": {},
   "outputs": [],
   "source": [
    "df.drop(columns=['month_beginning', 'daytype'], inplace=True)"
   ]
  },
  {
   "cell_type": "code",
   "execution_count": 44,
   "metadata": {},
   "outputs": [],
   "source": [
    "from ast import literal_eval as make_tuple\n",
    "df['location'] = df['location'].apply(make_tuple)"
   ]
  },
  {
   "cell_type": "code",
   "execution_count": 45,
   "metadata": {},
   "outputs": [
    {
     "data": {
      "text/html": [
       "<div>\n",
       "<style scoped>\n",
       "    .dataframe tbody tr th:only-of-type {\n",
       "        vertical-align: middle;\n",
       "    }\n",
       "\n",
       "    .dataframe tbody tr th {\n",
       "        vertical-align: top;\n",
       "    }\n",
       "\n",
       "    .dataframe thead th {\n",
       "        text-align: right;\n",
       "    }\n",
       "</style>\n",
       "<table border=\"1\" class=\"dataframe\">\n",
       "  <thead>\n",
       "    <tr style=\"text-align: right;\">\n",
       "      <th></th>\n",
       "      <th>stop_id</th>\n",
       "      <th>on_street</th>\n",
       "      <th>cross_street</th>\n",
       "      <th>routes</th>\n",
       "      <th>boardings</th>\n",
       "      <th>alightings</th>\n",
       "      <th>location</th>\n",
       "    </tr>\n",
       "  </thead>\n",
       "  <tbody>\n",
       "    <tr>\n",
       "      <th>0</th>\n",
       "      <td>1</td>\n",
       "      <td>JACKSON</td>\n",
       "      <td>AUSTIN</td>\n",
       "      <td>126</td>\n",
       "      <td>183.4</td>\n",
       "      <td>150.0</td>\n",
       "      <td>(41.87632184, -87.77410482)</td>\n",
       "    </tr>\n",
       "    <tr>\n",
       "      <th>1</th>\n",
       "      <td>2</td>\n",
       "      <td>JACKSON</td>\n",
       "      <td>MAYFIELD (EXTENDED)</td>\n",
       "      <td>126</td>\n",
       "      <td>5.3</td>\n",
       "      <td>0.2</td>\n",
       "      <td>(41.87706679, -87.77131794)</td>\n",
       "    </tr>\n",
       "    <tr>\n",
       "      <th>2</th>\n",
       "      <td>3</td>\n",
       "      <td>JACKSON</td>\n",
       "      <td>MENARD</td>\n",
       "      <td>126</td>\n",
       "      <td>8.3</td>\n",
       "      <td>0.7</td>\n",
       "      <td>(41.87695725, -87.76975039)</td>\n",
       "    </tr>\n",
       "    <tr>\n",
       "      <th>3</th>\n",
       "      <td>4</td>\n",
       "      <td>JACKSON</td>\n",
       "      <td>5700 WEST</td>\n",
       "      <td>126</td>\n",
       "      <td>17.9</td>\n",
       "      <td>3.0</td>\n",
       "      <td>(41.87702418, -87.76745055)</td>\n",
       "    </tr>\n",
       "    <tr>\n",
       "      <th>4</th>\n",
       "      <td>6</td>\n",
       "      <td>JACKSON</td>\n",
       "      <td>LOTUS</td>\n",
       "      <td>126</td>\n",
       "      <td>74.0</td>\n",
       "      <td>11.2</td>\n",
       "      <td>(41.876513, -87.761446)</td>\n",
       "    </tr>\n",
       "  </tbody>\n",
       "</table>\n",
       "</div>"
      ],
      "text/plain": [
       "   stop_id on_street         cross_street routes  boardings  alightings  \\\n",
       "0        1   JACKSON               AUSTIN    126      183.4       150.0   \n",
       "1        2   JACKSON  MAYFIELD (EXTENDED)    126        5.3         0.2   \n",
       "2        3   JACKSON               MENARD    126        8.3         0.7   \n",
       "3        4   JACKSON            5700 WEST    126       17.9         3.0   \n",
       "4        6   JACKSON                LOTUS    126       74.0        11.2   \n",
       "\n",
       "                      location  \n",
       "0  (41.87632184, -87.77410482)  \n",
       "1  (41.87706679, -87.77131794)  \n",
       "2  (41.87695725, -87.76975039)  \n",
       "3  (41.87702418, -87.76745055)  \n",
       "4      (41.876513, -87.761446)  "
      ]
     },
     "execution_count": 45,
     "metadata": {},
     "output_type": "execute_result"
    }
   ],
   "source": [
    "df.head()"
   ]
  },
  {
   "cell_type": "code",
   "execution_count": 46,
   "metadata": {},
   "outputs": [
    {
     "name": "stdout",
     "output_type": "stream",
     "text": [
      "<class 'pandas.core.frame.DataFrame'>\n",
      "RangeIndex: 11593 entries, 0 to 11592\n",
      "Data columns (total 7 columns):\n",
      " #   Column        Non-Null Count  Dtype  \n",
      "---  ------        --------------  -----  \n",
      " 0   stop_id       11593 non-null  int64  \n",
      " 1   on_street     11593 non-null  object \n",
      " 2   cross_street  11593 non-null  object \n",
      " 3   routes        11593 non-null  object \n",
      " 4   boardings     11593 non-null  float64\n",
      " 5   alightings    11593 non-null  float64\n",
      " 6   location      11593 non-null  object \n",
      "dtypes: float64(2), int64(1), object(4)\n",
      "memory usage: 634.1+ KB\n"
     ]
    }
   ],
   "source": [
    "df.info()"
   ]
  },
  {
   "cell_type": "code",
   "execution_count": null,
   "metadata": {},
   "outputs": [],
   "source": []
  }
 ],
 "metadata": {
  "kernelspec": {
   "display_name": "Python 3",
   "language": "python",
   "name": "python3"
  },
  "language_info": {
   "codemirror_mode": {
    "name": "ipython",
    "version": 3
   },
   "file_extension": ".py",
   "mimetype": "text/x-python",
   "name": "python",
   "nbconvert_exporter": "python",
   "pygments_lexer": "ipython3",
   "version": "3.8.8"
  }
 },
 "nbformat": 4,
 "nbformat_minor": 4
}
