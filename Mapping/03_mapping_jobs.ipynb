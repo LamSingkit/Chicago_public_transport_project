{
 "cells": [
  {
   "cell_type": "code",
   "execution_count": 1,
   "id": "39af33dd",
   "metadata": {},
   "outputs": [],
   "source": [
    "import pandas as pd\n",
    "import folium\n",
    "import json"
   ]
  },
  {
   "cell_type": "code",
   "execution_count": 2,
   "id": "26e3751b",
   "metadata": {},
   "outputs": [],
   "source": [
    "jobs = pd.read_csv('./datasets/jobs_data_cleaned.csv', index_col=0)\n",
    "jobs = jobs.T.reset_index(level=0)\n",
    "jobs.columns = ['zips'] + ([i for i in range(2001,2021)])"
   ]
  },
  {
   "cell_type": "code",
   "execution_count": 3,
   "id": "a4bab6b6",
   "metadata": {},
   "outputs": [],
   "source": [
    "with open('./datasets/zips_map_cleaned.json') as f:\n",
    "    zips_map = json.load(f)"
   ]
  },
  {
   "cell_type": "code",
   "execution_count": 4,
   "id": "93f2bfa2",
   "metadata": {},
   "outputs": [],
   "source": [
    "def generate_map(year, divisions=[0,0.25,0.5,0.75,0.98,1]):\n",
    "    if not 3 < len(divisions) < 11:\n",
    "        return 'divisions must be a list with length between 4 and 10' \n",
    "\n",
    "    quantiles = list(jobs[year].quantile(divisions))\n",
    "\n",
    "    m = folium.Map(location=[41.881832, -87.623177], tiles='openstreetmap', zoom_start=10)\n",
    "\n",
    "    folium.Choropleth(\n",
    "        geo_data=zips_map,\n",
    "        name='year',\n",
    "        data=jobs,\n",
    "        columns=['zips', year],\n",
    "        key_on='properties.zip',\n",
    "        fill_color='YlGn',\n",
    "        fill_opacity=0.7,\n",
    "        line_opacity=0.3,\n",
    "        bins=quantiles,\n",
    "        legend_name=f'Number of Jobs by ZIP Code in {year}',\n",
    "    ).add_to(m)\n",
    "    \n",
    "    m.save(f'./jobs_maps/jobs_{year}.html')"
   ]
  },
  {
   "cell_type": "code",
   "execution_count": 5,
   "id": "93c2170b",
   "metadata": {},
   "outputs": [],
   "source": [
    "for i in range(2001,2021):\n",
    "    generate_map(i)"
   ]
  }
 ],
 "metadata": {
  "kernelspec": {
   "display_name": "Python 3",
   "language": "python",
   "name": "python3"
  },
  "language_info": {
   "codemirror_mode": {
    "name": "ipython",
    "version": 3
   },
   "file_extension": ".py",
   "mimetype": "text/x-python",
   "name": "python",
   "nbconvert_exporter": "python",
   "pygments_lexer": "ipython3",
   "version": "3.8.10"
  }
 },
 "nbformat": 4,
 "nbformat_minor": 5
}
