{
 "cells": [
  {
   "cell_type": "code",
   "execution_count": 3,
   "id": "b445d5c2",
   "metadata": {},
   "outputs": [],
   "source": [
    "import pandas as pd"
   ]
  },
  {
   "cell_type": "code",
   "execution_count": 4,
   "id": "8f280d0c",
   "metadata": {},
   "outputs": [],
   "source": [
    "#by_geo_district = pd.read_excel('./datasets/2020q3_where_workers_work.xls', sheet_name='Table8')"
   ]
  },
  {
   "cell_type": "code",
   "execution_count": 5,
   "id": "3e4c8770",
   "metadata": {},
   "outputs": [],
   "source": [
    "job2020_1 = pd.read_excel('./datasets/2020q3_where_workers_work.xls', sheet_name='Table9',\n",
    "                         header=5,\n",
    "                         nrows=1,\n",
    "                         usecols='E,G,I,K')\n",
    "job2020_2 = pd.read_excel('./datasets/2020q3_where_workers_work.xls', sheet_name='Table10',\n",
    "                         header=5,\n",
    "                         nrows=1,\n",
    "                         usecols='E,G,I,K,M,O')\n",
    "job2020_3 = pd.read_excel('./datasets/2020q3_where_workers_work.xls', sheet_name='Table11',\n",
    "                         header=5,\n",
    "                         nrows=1,\n",
    "                         usecols='C,D,E,F,G,H,I,J,K,L,M')\n",
    "job2020_4 = pd.read_excel('./datasets/2020q3_where_workers_work.xls', sheet_name='Table12',\n",
    "                         header=5,\n",
    "                         nrows=1,\n",
    "                         usecols='C,D,E,F,G,H,I,J')\n",
    "job2020_5 = pd.read_excel('./datasets/2020q3_where_workers_work.xls', sheet_name='Table13',\n",
    "                         header=5,\n",
    "                         nrows=1,\n",
    "                         usecols='E,G,I,K,M')\n",
    "job2020_6 = pd.read_excel('./datasets/2020q3_where_workers_work.xls', sheet_name='Table14',\n",
    "                         header=5,\n",
    "                         nrows=1,\n",
    "                         usecols='C,D,E,F,G,H,I,J,K')\n",
    "job2020_7 = pd.read_excel('./datasets/2020q3_where_workers_work.xls', sheet_name='Table15',\n",
    "                         header=5,\n",
    "                         nrows=1,\n",
    "                         usecols='C,D,E,F,G,H,I,J,K')\n",
    "job2020_8 = pd.read_excel('./datasets/2020q3_where_workers_work.xls', sheet_name='Table16',\n",
    "                         header=5,\n",
    "                         nrows=1,\n",
    "                         usecols='D,F,H,J,L')"
   ]
  },
  {
   "cell_type": "code",
   "execution_count": 13,
   "id": "c6de96e3",
   "metadata": {
    "scrolled": true
   },
   "outputs": [],
   "source": [
    "dataframes = [job2020_2, job2020_3, job2020_4, job2020_5, job2020_6, job2020_7, job2020_8]\n",
    "jobs_2020 = job2020_1.join(dataframes)\n",
    "jobs_2020.reset_index(inplace=True)\n",
    "jobs_2020.rename(columns = {'index': 'zip_code', 0:'job_count'}, inplace=True)\n",
    "jobs_2020['zip_code'].replace({\"O'HARE\":60666}, inplace=True)"
   ]
  },
  {
   "cell_type": "code",
   "execution_count": 19,
   "id": "04811605",
   "metadata": {},
   "outputs": [],
   "source": [
    "job_data_zips = [jobs_2020['zip_code'][i] for i in range(len(jobs_2020))]"
   ]
  },
  {
   "cell_type": "code",
   "execution_count": null,
   "id": "9bb4c9cd",
   "metadata": {},
   "outputs": [],
   "source": []
  },
  {
   "cell_type": "code",
   "execution_count": 15,
   "id": "9b43a339",
   "metadata": {},
   "outputs": [],
   "source": [
    "import folium\n",
    "import json\n",
    "from folium import plugins"
   ]
  },
  {
   "cell_type": "code",
   "execution_count": 16,
   "id": "ca248cd5",
   "metadata": {},
   "outputs": [],
   "source": [
    "with open('./datasets/zip_codes.geojson') as f:\n",
    "    zips_map = json.load(f)"
   ]
  },
  {
   "cell_type": "code",
   "execution_count": 17,
   "id": "d71285b2",
   "metadata": {},
   "outputs": [],
   "source": [
    "geojson_zips = sorted([int(zips_map['features'][i]['properties']['zip']) for i in range(len(zips_map['features']))])"
   ]
  },
  {
   "cell_type": "code",
   "execution_count": 18,
   "id": "8dcdf3bd",
   "metadata": {},
   "outputs": [
    {
     "data": {
      "text/plain": [
       "{60610, '60610 & 54', 60627, 60635, 60642, 60654, 60707, 60827}"
      ]
     },
     "execution_count": 18,
     "metadata": {},
     "output_type": "execute_result"
    }
   ],
   "source": [
    "set(geojson_zips) ^ set(job_data)"
   ]
  },
  {
   "cell_type": "markdown",
   "id": "585907c9",
   "metadata": {},
   "source": [
    "- 60610: Cabrini-Green, Gold Coast (has a 1 block enclave in 60654? haha turns out it's the post office)\n",
    "- 60654: River North\n",
    "- 60627: Riverdale (neighborhood, not village. zip note showing up on google maps) - it has 60628\n",
    "- 60827: Riverdale village (not part of Chicago)\n",
    "- 60635: Elmwood Park (lmao they changed to 60707 in '96 https://www.chicagotribune.com/news/ct-xpm-1996-07-02-9607020235-story.html)\n",
    "- 60707: Elmwood Park (not part of Chicago)\n",
    "- 60642: Goose Island, Noble Square\n",
    "- 60666: O'Hare (60656 is the weird split of O'Hare on the Chicago side)"
   ]
  },
  {
   "cell_type": "code",
   "execution_count": 11,
   "id": "aeb2f823",
   "metadata": {},
   "outputs": [
    {
     "data": {
      "text/plain": [
       "61"
      ]
     },
     "execution_count": 11,
     "metadata": {},
     "output_type": "execute_result"
    }
   ],
   "source": [
    "len(zips['features'])"
   ]
  },
  {
   "cell_type": "code",
   "execution_count": 12,
   "id": "10cd2d8e",
   "metadata": {},
   "outputs": [],
   "source": [
    "'''\n",
    "getting rid of Riverdale (town) (60827) and Elmwood Park (60707)\n",
    "from zipcode map since they're not part of Chicago\n",
    "'''\n",
    "\n",
    "for i in range(58):\n",
    "    if zips['features'][i]['properties']['zip'] == '60707':\n",
    "        del zips['features'][i]\n",
    "    elif zips['features'][i]['properties']['zip'] == '60827':\n",
    "        del zips['features'][i]"
   ]
  },
  {
   "cell_type": "code",
   "execution_count": 13,
   "id": "134affb6",
   "metadata": {},
   "outputs": [
    {
     "data": {
      "text/plain": [
       "58"
      ]
     },
     "execution_count": 13,
     "metadata": {},
     "output_type": "execute_result"
    }
   ],
   "source": [
    "len(zips['features'])"
   ]
  },
  {
   "cell_type": "code",
   "execution_count": 14,
   "id": "1c3dd117",
   "metadata": {},
   "outputs": [
    {
     "data": {
      "text/plain": [
       "57"
      ]
     },
     "execution_count": 14,
     "metadata": {},
     "output_type": "execute_result"
    }
   ],
   "source": [
    "len(by_zips)"
   ]
  },
  {
   "cell_type": "code",
   "execution_count": 19,
   "id": "24248eaf",
   "metadata": {},
   "outputs": [],
   "source": [
    "'''\n",
    "Dropping Elmwood Park (60635) from the job count dataframe because it's not part of Chicago.\n",
    "Dropping Riverdale (neighborhood, aka zip code 60627) because this is no longer\n",
    "a valid zip code. Also because there was nearly no job data on this neighborhood.\n",
    "Based on reading through the data description for jobs, it seems that this data was \n",
    "split between 60628 (next to former 60627) and the town of Riverdale (60827).\n",
    "'''\n",
    "\n",
    "by_zips.drop(by_zips.loc[by_zips['zip_code'] == 60635].index, inplace = True)\n",
    "by_zips.drop(by_zips.loc[by_zips['zip_code'] == 60627].index, inplace = True)\n",
    "by_zips.reset_index(drop=True, inplace=True)"
   ]
  },
  {
   "cell_type": "code",
   "execution_count": 20,
   "id": "0163580f",
   "metadata": {},
   "outputs": [
    {
     "data": {
      "text/plain": [
       "55"
      ]
     },
     "execution_count": 20,
     "metadata": {},
     "output_type": "execute_result"
    }
   ],
   "source": [
    "len(by_zips)"
   ]
  },
  {
   "cell_type": "code",
   "execution_count": null,
   "id": "2f6322fc",
   "metadata": {},
   "outputs": [],
   "source": []
  },
  {
   "cell_type": "code",
   "execution_count": null,
   "id": "a260f82f",
   "metadata": {},
   "outputs": [],
   "source": []
  },
  {
   "cell_type": "code",
   "execution_count": null,
   "id": "ec2b0a81",
   "metadata": {},
   "outputs": [],
   "source": [
    "len(by_zips)"
   ]
  },
  {
   "cell_type": "markdown",
   "id": "45283bd4",
   "metadata": {},
   "source": [
    "## i'll put here which ones i'm gonna get rid of"
   ]
  },
  {
   "cell_type": "code",
   "execution_count": null,
   "id": "71e22437",
   "metadata": {},
   "outputs": [],
   "source": [
    "#zips['features'][i]['properties']['zip']"
   ]
  },
  {
   "cell_type": "code",
   "execution_count": null,
   "id": "e0da5a1b",
   "metadata": {},
   "outputs": [],
   "source": [
    "type(zips['features'][0])"
   ]
  },
  {
   "cell_type": "code",
   "execution_count": null,
   "id": "3fe2ca40",
   "metadata": {
    "scrolled": true
   },
   "outputs": [],
   "source": [
    "chi_map = folium.Map(location=[41.881832, -87.623177], tiles='openstreetmap', zoom_start=11)\n",
    "\n",
    "folium.GeoJson(zips).add_to(chi_map);"
   ]
  },
  {
   "cell_type": "code",
   "execution_count": null,
   "id": "cfac730e",
   "metadata": {},
   "outputs": [],
   "source": [
    "chi_map"
   ]
  },
  {
   "cell_type": "code",
   "execution_count": null,
   "id": "8fd5dfbd",
   "metadata": {},
   "outputs": [],
   "source": [
    "geojson_zips = sorted([int(zips['features'][i]['properties']['zip']) for i in range(len(zips['features']))])\n",
    "geojson_zips"
   ]
  },
  {
   "cell_type": "code",
   "execution_count": null,
   "id": "0ee9997a",
   "metadata": {},
   "outputs": [],
   "source": []
  },
  {
   "cell_type": "code",
   "execution_count": null,
   "id": "2d7d3d2c",
   "metadata": {},
   "outputs": [],
   "source": []
  },
  {
   "cell_type": "code",
   "execution_count": null,
   "id": "fc0d7c0b",
   "metadata": {},
   "outputs": [],
   "source": []
  },
  {
   "cell_type": "code",
   "execution_count": null,
   "id": "d942fecd",
   "metadata": {},
   "outputs": [],
   "source": []
  },
  {
   "cell_type": "code",
   "execution_count": null,
   "id": "411240ab",
   "metadata": {},
   "outputs": [],
   "source": []
  },
  {
   "cell_type": "code",
   "execution_count": null,
   "id": "8982d21d",
   "metadata": {},
   "outputs": [],
   "source": []
  },
  {
   "cell_type": "code",
   "execution_count": null,
   "id": "c4bad181",
   "metadata": {},
   "outputs": [],
   "source": []
  },
  {
   "cell_type": "code",
   "execution_count": null,
   "id": "b0a72548",
   "metadata": {},
   "outputs": [],
   "source": []
  },
  {
   "cell_type": "code",
   "execution_count": null,
   "id": "74c7b0ca",
   "metadata": {},
   "outputs": [],
   "source": []
  },
  {
   "cell_type": "code",
   "execution_count": null,
   "id": "1bf2fe04",
   "metadata": {},
   "outputs": [],
   "source": []
  },
  {
   "cell_type": "code",
   "execution_count": null,
   "id": "cd0f76f8",
   "metadata": {},
   "outputs": [],
   "source": [
    "zips.keys()"
   ]
  },
  {
   "cell_type": "code",
   "execution_count": null,
   "id": "40d7b455",
   "metadata": {},
   "outputs": [],
   "source": [
    "len(zips['features'])"
   ]
  },
  {
   "cell_type": "code",
   "execution_count": null,
   "id": "7b1d6b95",
   "metadata": {},
   "outputs": [],
   "source": [
    "zips['features'][0].keys()"
   ]
  },
  {
   "cell_type": "code",
   "execution_count": null,
   "id": "8c09980c",
   "metadata": {},
   "outputs": [],
   "source": [
    "zips['features'][0]['properties']['zip']"
   ]
  },
  {
   "cell_type": "code",
   "execution_count": null,
   "id": "57ef7bf7",
   "metadata": {},
   "outputs": [],
   "source": [
    "geojson_zips = [zips['features'][i]['properties']['zip'] for i in range(len(zips['features']))]"
   ]
  },
  {
   "cell_type": "code",
   "execution_count": null,
   "id": "2916ddf9",
   "metadata": {},
   "outputs": [],
   "source": [
    "by_zip_1 = pd.read_excel('./datasets/2020q3_where_workers_work.xls', sheet_name='Table9',\n",
    "                         #header=[3,4,5],\n",
    "                         header=5,\n",
    "                         nrows=1,\n",
    "                         usecols='E,G,I,K')\n",
    "by_zip_1"
   ]
  },
  {
   "cell_type": "code",
   "execution_count": null,
   "id": "a8c42c96",
   "metadata": {},
   "outputs": [],
   "source": [
    "with open('./datasets/zip_codes.geojson') as f:\n",
    "    zips = json.load(f)"
   ]
  },
  {
   "cell_type": "code",
   "execution_count": null,
   "id": "4151feb2",
   "metadata": {},
   "outputs": [],
   "source": [
    "chi_map = folium.Map(location=[41.881832, -87.623177], tiles='openstreetmap', zoom_start=11)\n",
    "\n",
    "folium.Choropleth(\n",
    "    geo_data=zips,\n",
    "    name=\"choropleth\",\n",
    "    data=by_zip_1,\n",
    "    #columns=[60603,60604,60601,60602],\n",
    "    #key_on=\"features.properties\",\n",
    "    fill_color=\"YlGn\",\n",
    "    fill_opacity=0.7,\n",
    "    line_opacity=0.2,\n",
    "    legend_name=\"Number of Jobs\",\n",
    ").add_to(chi_map)\n",
    "\n",
    "folium.LayerControl().add_to(chi_map);"
   ]
  },
  {
   "cell_type": "code",
   "execution_count": null,
   "id": "d0570c9c",
   "metadata": {},
   "outputs": [],
   "source": [
    "chi_map"
   ]
  },
  {
   "cell_type": "code",
   "execution_count": null,
   "id": "8ac8ab58",
   "metadata": {},
   "outputs": [],
   "source": []
  },
  {
   "cell_type": "code",
   "execution_count": null,
   "id": "33d4ad16",
   "metadata": {},
   "outputs": [],
   "source": [
    "with open('./datasets/zip_codes.json') as f:\n",
    "    zips = json.load(f)"
   ]
  },
  {
   "cell_type": "code",
   "execution_count": null,
   "id": "22eb68d0",
   "metadata": {},
   "outputs": [],
   "source": [
    "zips.keys()"
   ]
  },
  {
   "cell_type": "code",
   "execution_count": null,
   "id": "fe079085",
   "metadata": {},
   "outputs": [],
   "source": [
    "zips['data']"
   ]
  },
  {
   "cell_type": "code",
   "execution_count": null,
   "id": "e06e3cfb",
   "metadata": {},
   "outputs": [],
   "source": []
  },
  {
   "cell_type": "code",
   "execution_count": null,
   "id": "8313309d",
   "metadata": {},
   "outputs": [],
   "source": []
  },
  {
   "cell_type": "code",
   "execution_count": null,
   "id": "ac42832e",
   "metadata": {},
   "outputs": [],
   "source": []
  },
  {
   "cell_type": "code",
   "execution_count": null,
   "id": "1f048757",
   "metadata": {},
   "outputs": [],
   "source": [
    "chi_map = folium.Map(location=[41.881832, -87.623177], tiles='openstreetmap', zoom_start=11)\n",
    "\n",
    "folium.Choropleth(\n",
    "    geo_data=zips,\n",
    "    #name=\"choropleth\",\n",
    "    #data=by_zip_1,\n",
    "    #columns=[60603,60604,60601,60602],\n",
    "    #key_on=\"features.properties\",\n",
    "    #fill_color=\"YlGn\",\n",
    "    #fill_opacity=0.7,\n",
    "    #line_opacity=0.2,\n",
    "    #legend_name=\"Number of Jobs\",\n",
    ").add_to(chi_map)\n",
    "\n",
    "folium.LayerControl().add_to(chi_map);"
   ]
  },
  {
   "cell_type": "code",
   "execution_count": null,
   "id": "68f3eebb",
   "metadata": {},
   "outputs": [],
   "source": []
  }
 ],
 "metadata": {
  "kernelspec": {
   "display_name": "Python 3",
   "language": "python",
   "name": "python3"
  },
  "language_info": {
   "codemirror_mode": {
    "name": "ipython",
    "version": 3
   },
   "file_extension": ".py",
   "mimetype": "text/x-python",
   "name": "python",
   "nbconvert_exporter": "python",
   "pygments_lexer": "ipython3",
   "version": "3.8.10"
  }
 },
 "nbformat": 4,
 "nbformat_minor": 5
}
