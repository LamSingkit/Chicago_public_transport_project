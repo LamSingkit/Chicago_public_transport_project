{
 "cells": [
  {
   "cell_type": "code",
   "execution_count": 1,
   "id": "08ac1d4d-b186-4610-95e5-b13876226a90",
   "metadata": {},
   "outputs": [],
   "source": [
    "import pandas as pd\n",
    "import numpy as np\n",
    "import seaborn as sns\n",
    "import matplotlib.pyplot as plt\n",
    "import time\n",
    "import datetime\n",
    "\n",
    "# Import from sklearn.\n",
    "from sklearn.model_selection import train_test_split, GridSearchCV\n",
    "from sklearn.pipeline import Pipeline\n",
    "from sklearn.linear_model import LinearRegression, LogisticRegression\n",
    "from sklearn.preprocessing import PolynomialFeatures, StandardScaler, OneHotEncoder, LabelEncoder\n",
    "from sklearn.feature_extraction import FeatureHasher\n",
    "from sklearn.decomposition import PCA\n",
    "from sklearn.cluster import KMeans\n",
    "# Set a random seed.\n",
    "np.random.seed(42)"
   ]
  },
  {
   "cell_type": "code",
   "execution_count": 30,
   "id": "a2075056-819e-4589-b2b1-c31e40c789b6",
   "metadata": {},
   "outputs": [
    {
     "data": {
      "text/html": [
       "<div>\n",
       "<style scoped>\n",
       "    .dataframe tbody tr th:only-of-type {\n",
       "        vertical-align: middle;\n",
       "    }\n",
       "\n",
       "    .dataframe tbody tr th {\n",
       "        vertical-align: top;\n",
       "    }\n",
       "\n",
       "    .dataframe thead th {\n",
       "        text-align: right;\n",
       "    }\n",
       "</style>\n",
       "<table border=\"1\" class=\"dataframe\">\n",
       "  <thead>\n",
       "    <tr style=\"text-align: right;\">\n",
       "      <th></th>\n",
       "      <th>station_id</th>\n",
       "      <th>stationname</th>\n",
       "      <th>date</th>\n",
       "      <th>daytype</th>\n",
       "      <th>daily_total_riders</th>\n",
       "    </tr>\n",
       "  </thead>\n",
       "  <tbody>\n",
       "    <tr>\n",
       "      <th>0</th>\n",
       "      <td>41280</td>\n",
       "      <td>Jefferson Park</td>\n",
       "      <td>2017-12-22</td>\n",
       "      <td>weekday</td>\n",
       "      <td>6104</td>\n",
       "    </tr>\n",
       "    <tr>\n",
       "      <th>1</th>\n",
       "      <td>41000</td>\n",
       "      <td>Cermak-Chinatown</td>\n",
       "      <td>2017-12-18</td>\n",
       "      <td>weekday</td>\n",
       "      <td>3636</td>\n",
       "    </tr>\n",
       "    <tr>\n",
       "      <th>2</th>\n",
       "      <td>40280</td>\n",
       "      <td>Central-Lake</td>\n",
       "      <td>2017-12-02</td>\n",
       "      <td>saturday</td>\n",
       "      <td>1270</td>\n",
       "    </tr>\n",
       "    <tr>\n",
       "      <th>3</th>\n",
       "      <td>40140</td>\n",
       "      <td>Dempster-Skokie</td>\n",
       "      <td>2017-12-19</td>\n",
       "      <td>weekday</td>\n",
       "      <td>1759</td>\n",
       "    </tr>\n",
       "    <tr>\n",
       "      <th>4</th>\n",
       "      <td>40690</td>\n",
       "      <td>Dempster</td>\n",
       "      <td>2017-12-03</td>\n",
       "      <td>sunday-holiday</td>\n",
       "      <td>499</td>\n",
       "    </tr>\n",
       "  </tbody>\n",
       "</table>\n",
       "</div>"
      ],
      "text/plain": [
       "   station_id       stationname        date         daytype  \\\n",
       "0       41280    Jefferson Park  2017-12-22         weekday   \n",
       "1       41000  Cermak-Chinatown  2017-12-18         weekday   \n",
       "2       40280      Central-Lake  2017-12-02        saturday   \n",
       "3       40140   Dempster-Skokie  2017-12-19         weekday   \n",
       "4       40690          Dempster  2017-12-03  sunday-holiday   \n",
       "\n",
       "   daily_total_riders  \n",
       "0                6104  \n",
       "1                3636  \n",
       "2                1270  \n",
       "3                1759  \n",
       "4                 499  "
      ]
     },
     "execution_count": 30,
     "metadata": {},
     "output_type": "execute_result"
    }
   ],
   "source": [
    "train = pd.read_csv('datasets/clean_daily-totals-L-station-ridership.csv')\n",
    "train.head()"
   ]
  },
  {
   "cell_type": "code",
   "execution_count": 31,
   "id": "832a9433-c45c-479a-8930-8551b53a942e",
   "metadata": {},
   "outputs": [
    {
     "data": {
      "text/plain": [
       "(1049633, 5)"
      ]
     },
     "execution_count": 31,
     "metadata": {},
     "output_type": "execute_result"
    }
   ],
   "source": [
    "train.shape"
   ]
  },
  {
   "cell_type": "code",
   "execution_count": 32,
   "id": "f6adce68-bd4b-4a7d-b871-21652ec89491",
   "metadata": {},
   "outputs": [],
   "source": [
    "oh = OneHotEncoder(categories=\"auto\", sparse=False)\n",
    "train['stationname'] = oh.fit_transform(np.array(train['stationname']).reshape(-1,1))\n",
    "train['daytype'] = oh.fit_transform(np.array(train['daytype']).reshape(-1,1))\n",
    "train['station_id'] = oh.fit_transform(np.array(train['station_id']).reshape(-1,1))"
   ]
  },
  {
   "cell_type": "code",
   "execution_count": 22,
   "id": "659d9b4c-520f-4bce-8285-4301c3144b15",
   "metadata": {},
   "outputs": [],
   "source": [
    "train['year'] = pd.to_datetime(train['date']).dt.year\n",
    "train['month'] = pd.to_datetime(train['date']).dt.month\n",
    "train['year'] = oh.fit_transform(np.array(train['year']).reshape(-1,1))\n",
    "train['month'] = oh.fit_transform(np.array(train['month']).reshape(-1,1))"
   ]
  },
  {
   "cell_type": "code",
   "execution_count": 23,
   "id": "41c8cf33-002d-4a9a-9f0a-15b0d2179c7d",
   "metadata": {},
   "outputs": [],
   "source": [
    "X = train.drop(columns=['daily_total_riders', 'date'])\n",
    "y = train['daily_total_riders']"
   ]
  },
  {
   "cell_type": "markdown",
   "id": "84c8ee78-af69-4891-a1c4-8a3b18efca39",
   "metadata": {},
   "source": [
    "#### **Null Model/Baseline**"
   ]
  },
  {
   "cell_type": "code",
   "execution_count": 24,
   "id": "1c10be77-89b1-4507-8912-60ddb8576628",
   "metadata": {},
   "outputs": [
    {
     "data": {
      "text/plain": [
       "3195.5388578674642"
      ]
     },
     "execution_count": 24,
     "metadata": {},
     "output_type": "execute_result"
    }
   ],
   "source": [
    "np.mean(y)"
   ]
  },
  {
   "cell_type": "markdown",
   "id": "8f936f20-6d18-4e72-bc55-ca578f83cee8",
   "metadata": {},
   "source": [
    "### **Linear Regression**"
   ]
  },
  {
   "cell_type": "code",
   "execution_count": 25,
   "id": "0bb9592d-a373-45a4-821f-3083f0b6bcb1",
   "metadata": {},
   "outputs": [
    {
     "name": "stdout",
     "output_type": "stream",
     "text": [
      "Training Score: 0.0227\n",
      "Testing Score: 0.0221\n"
     ]
    }
   ],
   "source": [
    "X_train,X_test, y_train,y_test = train_test_split(X,y, test_size = 0.33,random_state=42)\n",
    "\n",
    "# instantiate linear regression model\n",
    "lr = LinearRegression()\n",
    "lr.fit(X_train, y_train)\n",
    "\n",
    "# Score on training and testing sets.\n",
    "print(f'Training Score: {round(lr.score(X_train, y_train),4)}')\n",
    "print(f'Testing Score: {round(lr.score(X_test, y_test),4)}')"
   ]
  },
  {
   "cell_type": "markdown",
   "id": "b2c66240-c917-4f0a-83bd-5104265d9c24",
   "metadata": {},
   "source": [
    "### **Principal Component Analysis**"
   ]
  },
  {
   "cell_type": "code",
   "execution_count": 26,
   "id": "74eb86d3-36c9-4156-beef-c8061e5aae21",
   "metadata": {},
   "outputs": [],
   "source": [
    "pf = PolynomialFeatures(degree = 3)\n",
    "X_poly = pf.fit_transform(X)"
   ]
  },
  {
   "cell_type": "code",
   "execution_count": 27,
   "id": "0d9bb9b8-a67f-4316-ae5b-33c9dd324e93",
   "metadata": {},
   "outputs": [],
   "source": [
    "X_train,X_test, y_train,y_test = train_test_split(X_poly,y, test_size = 0.33,random_state=42)\n",
    "\n",
    "# Instantiate our StandardScaler.\n",
    "xc = StandardScaler()\n",
    "# Standardize X_train.\n",
    "X_train_xc = xc.fit_transform(X_train)\n",
    "# Standardize X_test.\n",
    "X_test_xc = xc.transform(X_test)"
   ]
  },
  {
   "cell_type": "code",
   "execution_count": 28,
   "id": "9bd6a9b5-4999-4273-b0aa-2a4a6ed0e030",
   "metadata": {},
   "outputs": [
    {
     "name": "stdout",
     "output_type": "stream",
     "text": [
      "Training Score: 0.022754847076801088\n",
      "Testing Score: 0.022162484954760475\n"
     ]
    }
   ],
   "source": [
    "# instantiate PCA\n",
    "pca = PCA(n_components = 10, random_state=42)\n",
    "# fit PCA to training data\n",
    "pca.fit(X_train)\n",
    "#transform X_train and X_test\n",
    "Z_train = pca.transform(X_train_xc)\n",
    "Z_test = pca.transform(X_test_xc)\n",
    "\n",
    "# instantiate linear regression\n",
    "lr = LinearRegression()\n",
    "# fit on Z_train\n",
    "lr.fit(Z_train, y_train)\n",
    "\n",
    "# Score on training and testing sets.\n",
    "print(f'Training Score: {lr.score(Z_train, y_train)}')\n",
    "print(f'Testing Score: {lr.score(Z_test, y_test)}')"
   ]
  },
  {
   "cell_type": "markdown",
   "id": "baf7cc36-1018-40fe-8dd8-57e917c3f86b",
   "metadata": {},
   "source": [
    "#### **Decision to drop this dataset since we have datasets with averages and lack of time for amopunt of time to model on 1 million rows**"
   ]
  }
 ],
 "metadata": {
  "kernelspec": {
   "display_name": "Python 3",
   "language": "python",
   "name": "python3"
  },
  "language_info": {
   "codemirror_mode": {
    "name": "ipython",
    "version": 3
   },
   "file_extension": ".py",
   "mimetype": "text/x-python",
   "name": "python",
   "nbconvert_exporter": "python",
   "pygments_lexer": "ipython3",
   "version": "3.8.8"
  }
 },
 "nbformat": 4,
 "nbformat_minor": 5
}
