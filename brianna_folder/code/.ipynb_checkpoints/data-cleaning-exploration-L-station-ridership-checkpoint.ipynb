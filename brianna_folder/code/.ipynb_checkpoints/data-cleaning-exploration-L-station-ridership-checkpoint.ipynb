{
 "cells": [
  {
   "cell_type": "code",
   "execution_count": 64,
   "id": "e46b01b0-6aeb-42d4-bc99-1b5411d6ad4c",
   "metadata": {},
   "outputs": [],
   "source": [
    "import pandas as pd\n",
    "import numpy as np\n",
    "import seaborn as sns\n",
    "import matplotlib.pyplot as plt\n",
    "import time\n",
    "import datetime"
   ]
  },
  {
   "cell_type": "code",
   "execution_count": 65,
   "id": "1430495e-62c0-4316-8b7d-01246de93f2c",
   "metadata": {},
   "outputs": [
    {
     "data": {
      "text/html": [
       "<div>\n",
       "<style scoped>\n",
       "    .dataframe tbody tr th:only-of-type {\n",
       "        vertical-align: middle;\n",
       "    }\n",
       "\n",
       "    .dataframe tbody tr th {\n",
       "        vertical-align: top;\n",
       "    }\n",
       "\n",
       "    .dataframe thead th {\n",
       "        text-align: right;\n",
       "    }\n",
       "</style>\n",
       "<table border=\"1\" class=\"dataframe\">\n",
       "  <thead>\n",
       "    <tr style=\"text-align: right;\">\n",
       "      <th></th>\n",
       "      <th>station_id</th>\n",
       "      <th>stationname</th>\n",
       "      <th>date</th>\n",
       "      <th>daytype</th>\n",
       "      <th>rides</th>\n",
       "    </tr>\n",
       "  </thead>\n",
       "  <tbody>\n",
       "    <tr>\n",
       "      <th>0</th>\n",
       "      <td>41280</td>\n",
       "      <td>Jefferson Park</td>\n",
       "      <td>12/22/2017</td>\n",
       "      <td>W</td>\n",
       "      <td>6104</td>\n",
       "    </tr>\n",
       "    <tr>\n",
       "      <th>1</th>\n",
       "      <td>41000</td>\n",
       "      <td>Cermak-Chinatown</td>\n",
       "      <td>12/18/2017</td>\n",
       "      <td>W</td>\n",
       "      <td>3636</td>\n",
       "    </tr>\n",
       "    <tr>\n",
       "      <th>2</th>\n",
       "      <td>40280</td>\n",
       "      <td>Central-Lake</td>\n",
       "      <td>12/02/2017</td>\n",
       "      <td>A</td>\n",
       "      <td>1270</td>\n",
       "    </tr>\n",
       "    <tr>\n",
       "      <th>3</th>\n",
       "      <td>40140</td>\n",
       "      <td>Dempster-Skokie</td>\n",
       "      <td>12/19/2017</td>\n",
       "      <td>W</td>\n",
       "      <td>1759</td>\n",
       "    </tr>\n",
       "    <tr>\n",
       "      <th>4</th>\n",
       "      <td>40690</td>\n",
       "      <td>Dempster</td>\n",
       "      <td>12/03/2017</td>\n",
       "      <td>U</td>\n",
       "      <td>499</td>\n",
       "    </tr>\n",
       "  </tbody>\n",
       "</table>\n",
       "</div>"
      ],
      "text/plain": [
       "   station_id       stationname        date daytype  rides\n",
       "0       41280    Jefferson Park  12/22/2017       W   6104\n",
       "1       41000  Cermak-Chinatown  12/18/2017       W   3636\n",
       "2       40280      Central-Lake  12/02/2017       A   1270\n",
       "3       40140   Dempster-Skokie  12/19/2017       W   1759\n",
       "4       40690          Dempster  12/03/2017       U    499"
      ]
     },
     "execution_count": 65,
     "metadata": {},
     "output_type": "execute_result"
    }
   ],
   "source": [
    "df = pd.read_csv('daily-totals-L-station-ridership.csv')\n",
    "df.head()"
   ]
  },
  {
   "cell_type": "code",
   "execution_count": 66,
   "id": "ce442b96-bd7d-4cbf-80aa-9453a886332c",
   "metadata": {},
   "outputs": [
    {
     "data": {
      "text/plain": [
       "(1049633, 5)"
      ]
     },
     "execution_count": 66,
     "metadata": {},
     "output_type": "execute_result"
    }
   ],
   "source": [
    "df.shape"
   ]
  },
  {
   "cell_type": "code",
   "execution_count": 67,
   "id": "6bc9f60e-9936-457f-943f-60f411c4a5b0",
   "metadata": {
    "tags": []
   },
   "outputs": [
    {
     "name": "stdout",
     "output_type": "stream",
     "text": [
      "<class 'pandas.core.frame.DataFrame'>\n",
      "RangeIndex: 1049633 entries, 0 to 1049632\n",
      "Data columns (total 5 columns):\n",
      " #   Column       Non-Null Count    Dtype \n",
      "---  ------       --------------    ----- \n",
      " 0   station_id   1049633 non-null  int64 \n",
      " 1   stationname  1049633 non-null  object\n",
      " 2   date         1049633 non-null  object\n",
      " 3   daytype      1049633 non-null  object\n",
      " 4   rides        1049633 non-null  int64 \n",
      "dtypes: int64(2), object(3)\n",
      "memory usage: 40.0+ MB\n"
     ]
    }
   ],
   "source": [
    "df.info()"
   ]
  },
  {
   "cell_type": "code",
   "execution_count": 68,
   "id": "66f0e453-24fb-4bff-865a-1b84773d37e7",
   "metadata": {},
   "outputs": [
    {
     "data": {
      "text/plain": [
       "station_id     0\n",
       "stationname    0\n",
       "date           0\n",
       "daytype        0\n",
       "rides          0\n",
       "dtype: int64"
      ]
     },
     "execution_count": 68,
     "metadata": {},
     "output_type": "execute_result"
    }
   ],
   "source": [
    "df.isna().sum()"
   ]
  },
  {
   "cell_type": "code",
   "execution_count": 69,
   "id": "82f196be-c0f7-4833-8401-28eafa393432",
   "metadata": {},
   "outputs": [],
   "source": [
    "df['date'] = pd.to_datetime(df['date'])"
   ]
  },
  {
   "cell_type": "code",
   "execution_count": 70,
   "id": "0c990ecf-6fa5-48f3-aa4d-afef0ed4ec10",
   "metadata": {},
   "outputs": [],
   "source": [
    "daytype_dict = {\n",
    "    'W': 'weekday',\n",
    "    'A': 'saturday', \n",
    "    'U': 'sunday-holiday'\n",
    "}\n",
    "df['daytype'] = df['daytype'].map(daytype_dict)"
   ]
  },
  {
   "cell_type": "code",
   "execution_count": 71,
   "id": "2ca16031-0219-4a4f-a205-09febd3b3cc5",
   "metadata": {},
   "outputs": [
    {
     "data": {
      "text/html": [
       "<div>\n",
       "<style scoped>\n",
       "    .dataframe tbody tr th:only-of-type {\n",
       "        vertical-align: middle;\n",
       "    }\n",
       "\n",
       "    .dataframe tbody tr th {\n",
       "        vertical-align: top;\n",
       "    }\n",
       "\n",
       "    .dataframe thead th {\n",
       "        text-align: right;\n",
       "    }\n",
       "</style>\n",
       "<table border=\"1\" class=\"dataframe\">\n",
       "  <thead>\n",
       "    <tr style=\"text-align: right;\">\n",
       "      <th></th>\n",
       "      <th>station_id</th>\n",
       "      <th>stationname</th>\n",
       "      <th>date</th>\n",
       "      <th>daytype</th>\n",
       "      <th>rides</th>\n",
       "    </tr>\n",
       "  </thead>\n",
       "  <tbody>\n",
       "    <tr>\n",
       "      <th>0</th>\n",
       "      <td>41280</td>\n",
       "      <td>Jefferson Park</td>\n",
       "      <td>2017-12-22</td>\n",
       "      <td>weekday</td>\n",
       "      <td>6104</td>\n",
       "    </tr>\n",
       "    <tr>\n",
       "      <th>1</th>\n",
       "      <td>41000</td>\n",
       "      <td>Cermak-Chinatown</td>\n",
       "      <td>2017-12-18</td>\n",
       "      <td>weekday</td>\n",
       "      <td>3636</td>\n",
       "    </tr>\n",
       "    <tr>\n",
       "      <th>2</th>\n",
       "      <td>40280</td>\n",
       "      <td>Central-Lake</td>\n",
       "      <td>2017-12-02</td>\n",
       "      <td>saturday</td>\n",
       "      <td>1270</td>\n",
       "    </tr>\n",
       "    <tr>\n",
       "      <th>3</th>\n",
       "      <td>40140</td>\n",
       "      <td>Dempster-Skokie</td>\n",
       "      <td>2017-12-19</td>\n",
       "      <td>weekday</td>\n",
       "      <td>1759</td>\n",
       "    </tr>\n",
       "    <tr>\n",
       "      <th>4</th>\n",
       "      <td>40690</td>\n",
       "      <td>Dempster</td>\n",
       "      <td>2017-12-03</td>\n",
       "      <td>sunday-holiday</td>\n",
       "      <td>499</td>\n",
       "    </tr>\n",
       "  </tbody>\n",
       "</table>\n",
       "</div>"
      ],
      "text/plain": [
       "   station_id       stationname       date         daytype  rides\n",
       "0       41280    Jefferson Park 2017-12-22         weekday   6104\n",
       "1       41000  Cermak-Chinatown 2017-12-18         weekday   3636\n",
       "2       40280      Central-Lake 2017-12-02        saturday   1270\n",
       "3       40140   Dempster-Skokie 2017-12-19         weekday   1759\n",
       "4       40690          Dempster 2017-12-03  sunday-holiday    499"
      ]
     },
     "execution_count": 71,
     "metadata": {},
     "output_type": "execute_result"
    }
   ],
   "source": [
    "df.head()"
   ]
  },
  {
   "cell_type": "code",
   "execution_count": 72,
   "id": "e39b696e-ce40-4b18-bedd-bc5b9e6af239",
   "metadata": {},
   "outputs": [],
   "source": [
    "df.rename(columns={'rides': 'daily_total_riders'}, inplace=True)"
   ]
  },
  {
   "cell_type": "code",
   "execution_count": 73,
   "id": "12b95eb8-e592-484e-9c9b-512539c6a9fa",
   "metadata": {},
   "outputs": [
    {
     "name": "stdout",
     "output_type": "stream",
     "text": [
      "<class 'pandas.core.frame.DataFrame'>\n",
      "RangeIndex: 1049633 entries, 0 to 1049632\n",
      "Data columns (total 5 columns):\n",
      " #   Column              Non-Null Count    Dtype         \n",
      "---  ------              --------------    -----         \n",
      " 0   station_id          1049633 non-null  int64         \n",
      " 1   stationname         1049633 non-null  object        \n",
      " 2   date                1049633 non-null  datetime64[ns]\n",
      " 3   daytype             1049633 non-null  object        \n",
      " 4   daily_total_riders  1049633 non-null  int64         \n",
      "dtypes: datetime64[ns](1), int64(2), object(2)\n",
      "memory usage: 40.0+ MB\n"
     ]
    }
   ],
   "source": [
    "df.info()"
   ]
  },
  {
   "cell_type": "code",
   "execution_count": 74,
   "id": "c77a7418-398c-4f79-9167-e23dec22b9f2",
   "metadata": {},
   "outputs": [
    {
     "data": {
      "text/plain": [
       "148"
      ]
     },
     "execution_count": 74,
     "metadata": {},
     "output_type": "execute_result"
    }
   ],
   "source": [
    "df['stationname'].nunique()"
   ]
  },
  {
   "cell_type": "code",
   "execution_count": 75,
   "id": "14b1a4cf-a581-4169-ba6e-eb446224fdf3",
   "metadata": {},
   "outputs": [
    {
     "data": {
      "text/plain": [
       "147"
      ]
     },
     "execution_count": 75,
     "metadata": {},
     "output_type": "execute_result"
    }
   ],
   "source": [
    "df['station_id'].nunique()"
   ]
  },
  {
   "cell_type": "code",
   "execution_count": 76,
   "id": "8ca23752-ce07-4fda-9cb3-6d058f99be9b",
   "metadata": {},
   "outputs": [
    {
     "data": {
      "text/html": [
       "<div>\n",
       "<style scoped>\n",
       "    .dataframe tbody tr th:only-of-type {\n",
       "        vertical-align: middle;\n",
       "    }\n",
       "\n",
       "    .dataframe tbody tr th {\n",
       "        vertical-align: top;\n",
       "    }\n",
       "\n",
       "    .dataframe thead th {\n",
       "        text-align: right;\n",
       "    }\n",
       "</style>\n",
       "<table border=\"1\" class=\"dataframe\">\n",
       "  <thead>\n",
       "    <tr style=\"text-align: right;\">\n",
       "      <th></th>\n",
       "      <th>daily_total_riders</th>\n",
       "    </tr>\n",
       "    <tr>\n",
       "      <th>stationname</th>\n",
       "      <th></th>\n",
       "    </tr>\n",
       "  </thead>\n",
       "  <tbody>\n",
       "    <tr>\n",
       "      <th>18th</th>\n",
       "      <td>1241.208418</td>\n",
       "    </tr>\n",
       "    <tr>\n",
       "      <th>35-Bronzeville-IIT</th>\n",
       "      <td>1728.564350</td>\n",
       "    </tr>\n",
       "    <tr>\n",
       "      <th>35th/Archer</th>\n",
       "      <td>2185.998643</td>\n",
       "    </tr>\n",
       "    <tr>\n",
       "      <th>43rd</th>\n",
       "      <td>805.128748</td>\n",
       "    </tr>\n",
       "    <tr>\n",
       "      <th>47th-Dan Ryan</th>\n",
       "      <td>2522.492844</td>\n",
       "    </tr>\n",
       "    <tr>\n",
       "      <th>...</th>\n",
       "      <td>...</td>\n",
       "    </tr>\n",
       "    <tr>\n",
       "      <th>Western-Cermak</th>\n",
       "      <td>777.838040</td>\n",
       "    </tr>\n",
       "    <tr>\n",
       "      <th>Western-Forest Park</th>\n",
       "      <td>1187.878472</td>\n",
       "    </tr>\n",
       "    <tr>\n",
       "      <th>Western-Orange</th>\n",
       "      <td>2813.332157</td>\n",
       "    </tr>\n",
       "    <tr>\n",
       "      <th>Western/Milwaukee</th>\n",
       "      <td>3590.864883</td>\n",
       "    </tr>\n",
       "    <tr>\n",
       "      <th>Wilson</th>\n",
       "      <td>4815.527736</td>\n",
       "    </tr>\n",
       "  </tbody>\n",
       "</table>\n",
       "<p>148 rows × 1 columns</p>\n",
       "</div>"
      ],
      "text/plain": [
       "                     daily_total_riders\n",
       "stationname                            \n",
       "18th                        1241.208418\n",
       "35-Bronzeville-IIT          1728.564350\n",
       "35th/Archer                 2185.998643\n",
       "43rd                         805.128748\n",
       "47th-Dan Ryan               2522.492844\n",
       "...                                 ...\n",
       "Western-Cermak               777.838040\n",
       "Western-Forest Park         1187.878472\n",
       "Western-Orange              2813.332157\n",
       "Western/Milwaukee           3590.864883\n",
       "Wilson                      4815.527736\n",
       "\n",
       "[148 rows x 1 columns]"
      ]
     },
     "execution_count": 76,
     "metadata": {},
     "output_type": "execute_result"
    }
   ],
   "source": [
    "df.groupby('stationname')[['daily_total_riders']].mean()"
   ]
  },
  {
   "cell_type": "code",
   "execution_count": 77,
   "id": "01cedb44-bf1b-4e96-bd24-aae14cfdb3c0",
   "metadata": {},
   "outputs": [
    {
     "data": {
      "text/html": [
       "<div>\n",
       "<style scoped>\n",
       "    .dataframe tbody tr th:only-of-type {\n",
       "        vertical-align: middle;\n",
       "    }\n",
       "\n",
       "    .dataframe tbody tr th {\n",
       "        vertical-align: top;\n",
       "    }\n",
       "\n",
       "    .dataframe thead th {\n",
       "        text-align: right;\n",
       "    }\n",
       "</style>\n",
       "<table border=\"1\" class=\"dataframe\">\n",
       "  <thead>\n",
       "    <tr style=\"text-align: right;\">\n",
       "      <th></th>\n",
       "      <th>daily_total_riders</th>\n",
       "    </tr>\n",
       "    <tr>\n",
       "      <th>daytype</th>\n",
       "      <th></th>\n",
       "    </tr>\n",
       "  </thead>\n",
       "  <tbody>\n",
       "    <tr>\n",
       "      <th>saturday</th>\n",
       "      <td>2189.037895</td>\n",
       "    </tr>\n",
       "    <tr>\n",
       "      <th>sunday-holiday</th>\n",
       "      <td>1591.739272</td>\n",
       "    </tr>\n",
       "    <tr>\n",
       "      <th>weekday</th>\n",
       "      <td>3766.467834</td>\n",
       "    </tr>\n",
       "  </tbody>\n",
       "</table>\n",
       "</div>"
      ],
      "text/plain": [
       "                daily_total_riders\n",
       "daytype                           \n",
       "saturday               2189.037895\n",
       "sunday-holiday         1591.739272\n",
       "weekday                3766.467834"
      ]
     },
     "execution_count": 77,
     "metadata": {},
     "output_type": "execute_result"
    }
   ],
   "source": [
    "df.groupby('daytype')[['daily_total_riders']].mean()"
   ]
  },
  {
   "cell_type": "code",
   "execution_count": 113,
   "id": "1a872b37-8d6e-4c8d-b455-be1d31916746",
   "metadata": {},
   "outputs": [
    {
     "data": {
      "text/plain": [
       "Index(['Lake/State', 'Clark/Lake', 'Chicago/State', '95th/Dan Ryan',\n",
       "       'Belmont-North Main', 'Fullerton', 'Grand/State', 'O'Hare Airport',\n",
       "       'Jackson/State', 'Roosevelt', 'Washington/Dearborn', 'State/Lake',\n",
       "       'Monroe/State', 'Addison-North Main', 'Midway Airport',\n",
       "       'Washington/Wabash', 'Clark/Division', '79th', 'Adams/Wabash',\n",
       "       'Jackson/Dearborn'],\n",
       "      dtype='object', name='stationname')"
      ]
     },
     "execution_count": 113,
     "metadata": {},
     "output_type": "execute_result"
    }
   ],
   "source": [
    "mean_by_station = df.groupby('stationname')['daily_total_riders'].agg([np.mean]).sort_values(by='mean', ascending=False)\n",
    "mean_by_station.index[:20]"
   ]
  },
  {
   "cell_type": "code",
   "execution_count": 87,
   "id": "7f38f0af-28e4-4da1-a69b-2af510804ff8",
   "metadata": {},
   "outputs": [],
   "source": [
    "# sns.set_theme(palette='crest')\n",
    "# plt.figure(figsize=(30,25))\n",
    "# plt.title('Ridership By Station',fontsize=18)\n",
    "# sns.barplot(x=df['stationname'], y=df['daily_total_riders'], palette='summer');"
   ]
  },
  {
   "cell_type": "code",
   "execution_count": 96,
   "id": "9678b79f-e9d5-48e6-b760-de3b6385407d",
   "metadata": {},
   "outputs": [
    {
     "data": {
      "image/png": "[encoded data removed]",
      "text/plain": [
       "<Figure size 1080x720 with 1 Axes>"
      ]
     },
     "metadata": {},
     "output_type": "display_data"
    }
   ],
   "source": [
    "sns.set_theme(palette='crest')\n",
    "plt.figure(figsize=(15,10))\n",
    "plt.hist(df['daily_total_riders'], bins=100)\n",
    "plt.title(\"Daily Total Ridership\", fontsize=18)\n",
    "plt.ylabel('Frequency')\n",
    "plt.xlabel('Daily Total Riders');"
   ]
  },
  {
   "cell_type": "code",
   "execution_count": 115,
   "id": "bbe31975-0acc-47e4-a5ca-6dd66a173c0b",
   "metadata": {},
   "outputs": [
    {
     "data": {
      "image/png": "[encoded data removed]",
      "text/plain": [
       "<Figure size 1440x1080 with 1 Axes>"
      ]
     },
     "metadata": {},
     "output_type": "display_data"
    }
   ],
   "source": [
    "sns.set_theme(palette='crest')\n",
    "plt.figure(figsize=(20,15))\n",
    "plt.title('Ridership By Station',fontsize=18)\n",
    "sns.barplot(x=mean_by_station['mean'].head(20), y=mean_by_station.index[:20], palette='summer');"
   ]
  },
  {
   "cell_type": "code",
   "execution_count": 117,
   "id": "9ea168e9-e9b1-4344-9ea0-3406e1eea836",
   "metadata": {},
   "outputs": [],
   "source": [
    "mean_by_daytype=df.groupby('daytype')['daily_total_riders'].agg([np.mean]).sort_values(by='mean', ascending=False)"
   ]
  },
  {
   "cell_type": "code",
   "execution_count": 125,
   "id": "9f8ca53e-bf5c-4046-ad74-b64957ee5393",
   "metadata": {},
   "outputs": [
    {
     "data": {
      "image/png": "[encoded data removed]",
      "text/plain": [
       "<Figure size 720x864 with 1 Axes>"
      ]
     },
     "metadata": {},
     "output_type": "display_data"
    }
   ],
   "source": [
    "sns.set_theme(palette='crest')\n",
    "plt.figure(figsize=(10,12))\n",
    "plt.title('Ridership By Day Type',fontsize=18)\n",
    "sns.barplot(y=mean_by_daytype['mean'], x=mean_by_daytype.index, palette='viridis');"
   ]
  },
  {
   "cell_type": "code",
   "execution_count": null,
   "id": "ea602600-cdcf-457f-9bab-367b4beac584",
   "metadata": {},
   "outputs": [],
   "source": []
  },
  {
   "cell_type": "code",
   "execution_count": null,
   "id": "e5128da1-4e4b-41f3-827f-3b8d762cdb4e",
   "metadata": {},
   "outputs": [],
   "source": []
  },
  {
   "cell_type": "code",
   "execution_count": null,
   "id": "2c0ac5a8-6c03-4873-838f-78e3c1dd87c1",
   "metadata": {},
   "outputs": [],
   "source": [
    "df=pd.get_dummies(df, columns=['daytype'], drop_first=True)"
   ]
  }
 ],
 "metadata": {
  "kernelspec": {
   "display_name": "Python 3",
   "language": "python",
   "name": "python3"
  },
  "language_info": {
   "codemirror_mode": {
    "name": "ipython",
    "version": 3
   },
   "file_extension": ".py",
   "mimetype": "text/x-python",
   "name": "python",
   "nbconvert_exporter": "python",
   "pygments_lexer": "ipython3",
   "version": "3.8.8"
  }
 },
 "nbformat": 4,
 "nbformat_minor": 5
}
