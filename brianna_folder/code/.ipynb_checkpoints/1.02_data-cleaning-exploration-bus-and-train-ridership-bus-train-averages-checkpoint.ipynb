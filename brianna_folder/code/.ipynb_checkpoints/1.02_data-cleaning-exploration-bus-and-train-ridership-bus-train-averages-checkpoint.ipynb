{
 "cells": [
  {
   "cell_type": "code",
   "execution_count": 113,
   "id": "e46b01b0-6aeb-42d4-bc99-1b5411d6ad4c",
   "metadata": {},
   "outputs": [],
   "source": [
    "import pandas as pd\n",
    "import numpy as np\n",
    "from ast import literal_eval as make_tuple\n",
    "import seaborn as sns\n",
    "import matplotlib.pyplot as plt\n",
    "import time\n",
    "import datetime"
   ]
  },
  {
   "cell_type": "code",
   "execution_count": 50,
   "id": "1430495e-62c0-4316-8b7d-01246de93f2c",
   "metadata": {},
   "outputs": [
    {
     "name": "stdout",
     "output_type": "stream",
     "text": [
      "Bus Ridership dataframe shape: (33184, 7)\n",
      "Bus Ridership dataframe columns: Index(['route', 'routename', 'Month_Beginning', 'Avg_Weekday_Rides',\n",
      "       'Avg_Saturday_Rides', 'Avg_Sunday-Holiday_Rides', 'MonthTotal'],\n",
      "      dtype='object')\n",
      "Train Ridership dataframe shape: (34475, 7)\n",
      "Train Ridership dataframe columns: Index(['station_id', 'stationame', 'month_beginning', 'avg_weekday_rides',\n",
      "       'avg_saturday_rides', 'avg_sunday-holiday_rides', 'monthtotal'],\n",
      "      dtype='object')\n"
     ]
    }
   ],
   "source": [
    "bus = pd.read_csv('datasets/CTA_-_Ridership_-_Bus_Routes_-_Monthly_Day-Type_Averages___Totals.csv')\n",
    "train = pd.read_csv('datasets/CTA_-_Ridership_-__L__Station_Entries_-_Monthly_Day-Type_Averages___Totals.csv')\n",
    "print(f'Bus Ridership dataframe shape: {bus.shape}')\n",
    "print(f'Bus Ridership dataframe columns: {bus.columns}')\n",
    "print(f'Train Ridership dataframe shape: {train.shape}')\n",
    "print(f'Train Ridership dataframe columns: {train.columns}')"
   ]
  },
  {
   "cell_type": "code",
   "execution_count": 51,
   "id": "4583ca4b-7e86-4cab-9f89-c804c5aa4799",
   "metadata": {},
   "outputs": [
    {
     "data": {
      "text/plain": [
       "Index(['route', 'routename', 'month_beginning', 'avg_weekday_rides',\n",
       "       'avg_saturday_rides', 'avg_sunday-holiday_rides', 'monthtotal'],\n",
       "      dtype='object')"
      ]
     },
     "execution_count": 51,
     "metadata": {},
     "output_type": "execute_result"
    }
   ],
   "source": [
    "bus.columns = bus.columns.str.lower()\n",
    "bus.columns"
   ]
  },
  {
   "cell_type": "code",
   "execution_count": 52,
   "id": "5af2ba10-0f2e-48c3-aa97-0446d3101b1f",
   "metadata": {},
   "outputs": [],
   "source": [
    "bus.rename(columns={'route'     : 'route_id',\n",
    "                    'routename' : 'route_name',\n",
    "                    'monthtotal': 'month_total'}, inplace=True)\n",
    "train.rename(columns={'stationame' : 'station_name',\n",
    "                     'monthtotal'  : 'month_total'}, inplace=True)"
   ]
  },
  {
   "cell_type": "code",
   "execution_count": 53,
   "id": "8d695383-da1f-4649-97f8-86c3634981c6",
   "metadata": {},
   "outputs": [
    {
     "data": {
      "text/html": [
       "<div>\n",
       "<style scoped>\n",
       "    .dataframe tbody tr th:only-of-type {\n",
       "        vertical-align: middle;\n",
       "    }\n",
       "\n",
       "    .dataframe tbody tr th {\n",
       "        vertical-align: top;\n",
       "    }\n",
       "\n",
       "    .dataframe thead th {\n",
       "        text-align: right;\n",
       "    }\n",
       "</style>\n",
       "<table border=\"1\" class=\"dataframe\">\n",
       "  <thead>\n",
       "    <tr style=\"text-align: right;\">\n",
       "      <th></th>\n",
       "      <th>route_id</th>\n",
       "      <th>route_name</th>\n",
       "      <th>month_beginning</th>\n",
       "      <th>avg_weekday_rides</th>\n",
       "      <th>avg_saturday_rides</th>\n",
       "      <th>avg_sunday-holiday_rides</th>\n",
       "      <th>month_total</th>\n",
       "    </tr>\n",
       "  </thead>\n",
       "  <tbody>\n",
       "    <tr>\n",
       "      <th>0</th>\n",
       "      <td>1</td>\n",
       "      <td>Indiana/Hyde Park</td>\n",
       "      <td>01/01/2001</td>\n",
       "      <td>6982.6</td>\n",
       "      <td>0.0</td>\n",
       "      <td>0.0</td>\n",
       "      <td>153617</td>\n",
       "    </tr>\n",
       "    <tr>\n",
       "      <th>1</th>\n",
       "      <td>2</td>\n",
       "      <td>Hyde Park Express</td>\n",
       "      <td>01/01/2001</td>\n",
       "      <td>1000.0</td>\n",
       "      <td>0.0</td>\n",
       "      <td>0.0</td>\n",
       "      <td>22001</td>\n",
       "    </tr>\n",
       "    <tr>\n",
       "      <th>2</th>\n",
       "      <td>3</td>\n",
       "      <td>King Drive</td>\n",
       "      <td>01/01/2001</td>\n",
       "      <td>21406.5</td>\n",
       "      <td>13210.7</td>\n",
       "      <td>8725.3</td>\n",
       "      <td>567413</td>\n",
       "    </tr>\n",
       "    <tr>\n",
       "      <th>3</th>\n",
       "      <td>4</td>\n",
       "      <td>Cottage Grove</td>\n",
       "      <td>01/01/2001</td>\n",
       "      <td>22432.2</td>\n",
       "      <td>17994.0</td>\n",
       "      <td>10662.2</td>\n",
       "      <td>618796</td>\n",
       "    </tr>\n",
       "    <tr>\n",
       "      <th>4</th>\n",
       "      <td>6</td>\n",
       "      <td>Jackson Park Express</td>\n",
       "      <td>01/01/2001</td>\n",
       "      <td>18443.0</td>\n",
       "      <td>13088.2</td>\n",
       "      <td>7165.6</td>\n",
       "      <td>493926</td>\n",
       "    </tr>\n",
       "  </tbody>\n",
       "</table>\n",
       "</div>"
      ],
      "text/plain": [
       "  route_id            route_name month_beginning  avg_weekday_rides  \\\n",
       "0        1     Indiana/Hyde Park      01/01/2001             6982.6   \n",
       "1        2     Hyde Park Express      01/01/2001             1000.0   \n",
       "2        3            King Drive      01/01/2001            21406.5   \n",
       "3        4         Cottage Grove      01/01/2001            22432.2   \n",
       "4        6  Jackson Park Express      01/01/2001            18443.0   \n",
       "\n",
       "   avg_saturday_rides  avg_sunday-holiday_rides  month_total  \n",
       "0                 0.0                       0.0       153617  \n",
       "1                 0.0                       0.0        22001  \n",
       "2             13210.7                    8725.3       567413  \n",
       "3             17994.0                   10662.2       618796  \n",
       "4             13088.2                    7165.6       493926  "
      ]
     },
     "execution_count": 53,
     "metadata": {},
     "output_type": "execute_result"
    }
   ],
   "source": [
    "bus.head()"
   ]
  },
  {
   "cell_type": "code",
   "execution_count": 54,
   "id": "dcc9c597-668a-47c1-b7a6-567c1b74f4b7",
   "metadata": {},
   "outputs": [
    {
     "data": {
      "text/html": [
       "<div>\n",
       "<style scoped>\n",
       "    .dataframe tbody tr th:only-of-type {\n",
       "        vertical-align: middle;\n",
       "    }\n",
       "\n",
       "    .dataframe tbody tr th {\n",
       "        vertical-align: top;\n",
       "    }\n",
       "\n",
       "    .dataframe thead th {\n",
       "        text-align: right;\n",
       "    }\n",
       "</style>\n",
       "<table border=\"1\" class=\"dataframe\">\n",
       "  <thead>\n",
       "    <tr style=\"text-align: right;\">\n",
       "      <th></th>\n",
       "      <th>station_id</th>\n",
       "      <th>station_name</th>\n",
       "      <th>month_beginning</th>\n",
       "      <th>avg_weekday_rides</th>\n",
       "      <th>avg_saturday_rides</th>\n",
       "      <th>avg_sunday-holiday_rides</th>\n",
       "      <th>month_total</th>\n",
       "    </tr>\n",
       "  </thead>\n",
       "  <tbody>\n",
       "    <tr>\n",
       "      <th>0</th>\n",
       "      <td>40900</td>\n",
       "      <td>Howard</td>\n",
       "      <td>01/01/2001</td>\n",
       "      <td>6233.9</td>\n",
       "      <td>3814.5</td>\n",
       "      <td>2408.6</td>\n",
       "      <td>164447</td>\n",
       "    </tr>\n",
       "    <tr>\n",
       "      <th>1</th>\n",
       "      <td>41190</td>\n",
       "      <td>Jarvis</td>\n",
       "      <td>01/01/2001</td>\n",
       "      <td>1489.1</td>\n",
       "      <td>1054.0</td>\n",
       "      <td>718.0</td>\n",
       "      <td>40567</td>\n",
       "    </tr>\n",
       "    <tr>\n",
       "      <th>2</th>\n",
       "      <td>40100</td>\n",
       "      <td>Morse</td>\n",
       "      <td>01/01/2001</td>\n",
       "      <td>4412.5</td>\n",
       "      <td>3064.5</td>\n",
       "      <td>2087.8</td>\n",
       "      <td>119772</td>\n",
       "    </tr>\n",
       "    <tr>\n",
       "      <th>3</th>\n",
       "      <td>41300</td>\n",
       "      <td>Loyola</td>\n",
       "      <td>01/01/2001</td>\n",
       "      <td>4664.5</td>\n",
       "      <td>3156.0</td>\n",
       "      <td>1952.8</td>\n",
       "      <td>125008</td>\n",
       "    </tr>\n",
       "    <tr>\n",
       "      <th>4</th>\n",
       "      <td>40760</td>\n",
       "      <td>Granville</td>\n",
       "      <td>01/01/2001</td>\n",
       "      <td>3109.8</td>\n",
       "      <td>2126.0</td>\n",
       "      <td>1453.8</td>\n",
       "      <td>84189</td>\n",
       "    </tr>\n",
       "  </tbody>\n",
       "</table>\n",
       "</div>"
      ],
      "text/plain": [
       "   station_id station_name month_beginning  avg_weekday_rides  \\\n",
       "0       40900       Howard      01/01/2001             6233.9   \n",
       "1       41190       Jarvis      01/01/2001             1489.1   \n",
       "2       40100        Morse      01/01/2001             4412.5   \n",
       "3       41300       Loyola      01/01/2001             4664.5   \n",
       "4       40760    Granville      01/01/2001             3109.8   \n",
       "\n",
       "   avg_saturday_rides  avg_sunday-holiday_rides  month_total  \n",
       "0              3814.5                    2408.6       164447  \n",
       "1              1054.0                     718.0        40567  \n",
       "2              3064.5                    2087.8       119772  \n",
       "3              3156.0                    1952.8       125008  \n",
       "4              2126.0                    1453.8        84189  "
      ]
     },
     "execution_count": 54,
     "metadata": {},
     "output_type": "execute_result"
    }
   ],
   "source": [
    "train.head()"
   ]
  },
  {
   "cell_type": "code",
   "execution_count": 55,
   "id": "aeda57b7-9e7a-47c5-8e41-02d08a790ad5",
   "metadata": {},
   "outputs": [
    {
     "data": {
      "text/html": [
       "<div>\n",
       "<style scoped>\n",
       "    .dataframe tbody tr th:only-of-type {\n",
       "        vertical-align: middle;\n",
       "    }\n",
       "\n",
       "    .dataframe tbody tr th {\n",
       "        vertical-align: top;\n",
       "    }\n",
       "\n",
       "    .dataframe thead th {\n",
       "        text-align: right;\n",
       "    }\n",
       "</style>\n",
       "<table border=\"1\" class=\"dataframe\">\n",
       "  <thead>\n",
       "    <tr style=\"text-align: right;\">\n",
       "      <th></th>\n",
       "      <th>station_id</th>\n",
       "      <th>station_name</th>\n",
       "      <th>month_beginning</th>\n",
       "      <th>avg_weekday_rides</th>\n",
       "      <th>avg_saturday_rides</th>\n",
       "      <th>avg_sunday-holiday_rides</th>\n",
       "      <th>month_total</th>\n",
       "    </tr>\n",
       "  </thead>\n",
       "  <tbody>\n",
       "    <tr>\n",
       "      <th>0</th>\n",
       "      <td>40900</td>\n",
       "      <td>Howard</td>\n",
       "      <td>01/01/2001</td>\n",
       "      <td>6233.9</td>\n",
       "      <td>3814.5</td>\n",
       "      <td>2408.6</td>\n",
       "      <td>164447</td>\n",
       "    </tr>\n",
       "    <tr>\n",
       "      <th>1</th>\n",
       "      <td>41190</td>\n",
       "      <td>Jarvis</td>\n",
       "      <td>01/01/2001</td>\n",
       "      <td>1489.1</td>\n",
       "      <td>1054.0</td>\n",
       "      <td>718.0</td>\n",
       "      <td>40567</td>\n",
       "    </tr>\n",
       "    <tr>\n",
       "      <th>2</th>\n",
       "      <td>40100</td>\n",
       "      <td>Morse</td>\n",
       "      <td>01/01/2001</td>\n",
       "      <td>4412.5</td>\n",
       "      <td>3064.5</td>\n",
       "      <td>2087.8</td>\n",
       "      <td>119772</td>\n",
       "    </tr>\n",
       "    <tr>\n",
       "      <th>3</th>\n",
       "      <td>41300</td>\n",
       "      <td>Loyola</td>\n",
       "      <td>01/01/2001</td>\n",
       "      <td>4664.5</td>\n",
       "      <td>3156.0</td>\n",
       "      <td>1952.8</td>\n",
       "      <td>125008</td>\n",
       "    </tr>\n",
       "    <tr>\n",
       "      <th>4</th>\n",
       "      <td>40760</td>\n",
       "      <td>Granville</td>\n",
       "      <td>01/01/2001</td>\n",
       "      <td>3109.8</td>\n",
       "      <td>2126.0</td>\n",
       "      <td>1453.8</td>\n",
       "      <td>84189</td>\n",
       "    </tr>\n",
       "  </tbody>\n",
       "</table>\n",
       "</div>"
      ],
      "text/plain": [
       "   station_id station_name month_beginning  avg_weekday_rides  \\\n",
       "0       40900       Howard      01/01/2001             6233.9   \n",
       "1       41190       Jarvis      01/01/2001             1489.1   \n",
       "2       40100        Morse      01/01/2001             4412.5   \n",
       "3       41300       Loyola      01/01/2001             4664.5   \n",
       "4       40760    Granville      01/01/2001             3109.8   \n",
       "\n",
       "   avg_saturday_rides  avg_sunday-holiday_rides  month_total  \n",
       "0              3814.5                    2408.6       164447  \n",
       "1              1054.0                     718.0        40567  \n",
       "2              3064.5                    2087.8       119772  \n",
       "3              3156.0                    1952.8       125008  \n",
       "4              2126.0                    1453.8        84189  "
      ]
     },
     "execution_count": 55,
     "metadata": {},
     "output_type": "execute_result"
    }
   ],
   "source": [
    "train.head()"
   ]
  },
  {
   "cell_type": "code",
   "execution_count": 56,
   "id": "66f0e453-24fb-4bff-865a-1b84773d37e7",
   "metadata": {},
   "outputs": [
    {
     "data": {
      "text/plain": [
       "route_id                    0\n",
       "route_name                  0\n",
       "month_beginning             0\n",
       "avg_weekday_rides           0\n",
       "avg_saturday_rides          0\n",
       "avg_sunday-holiday_rides    0\n",
       "month_total                 0\n",
       "dtype: int64"
      ]
     },
     "execution_count": 56,
     "metadata": {},
     "output_type": "execute_result"
    }
   ],
   "source": [
    "bus.isna().sum()"
   ]
  },
  {
   "cell_type": "code",
   "execution_count": 57,
   "id": "4c7a78b1-25a2-4b31-bbc9-5abab1571d69",
   "metadata": {},
   "outputs": [
    {
     "data": {
      "text/plain": [
       "station_id                  0\n",
       "station_name                0\n",
       "month_beginning             0\n",
       "avg_weekday_rides           0\n",
       "avg_saturday_rides          0\n",
       "avg_sunday-holiday_rides    0\n",
       "month_total                 0\n",
       "dtype: int64"
      ]
     },
     "execution_count": 57,
     "metadata": {},
     "output_type": "execute_result"
    }
   ],
   "source": [
    "train.isna().sum()"
   ]
  },
  {
   "cell_type": "code",
   "execution_count": 58,
   "id": "82f196be-c0f7-4833-8401-28eafa393432",
   "metadata": {},
   "outputs": [],
   "source": [
    "bus['month_beginning'] = pd.to_datetime(bus['month_beginning'])\n",
    "train['month_beginning'] = pd.to_datetime(train['month_beginning'])"
   ]
  },
  {
   "cell_type": "code",
   "execution_count": 59,
   "id": "e7f3d31f-05ae-422d-89af-a432e8c7240f",
   "metadata": {},
   "outputs": [
    {
     "name": "stdout",
     "output_type": "stream",
     "text": [
      "<class 'pandas.core.frame.DataFrame'>\n",
      "RangeIndex: 33184 entries, 0 to 33183\n",
      "Data columns (total 7 columns):\n",
      " #   Column                    Non-Null Count  Dtype         \n",
      "---  ------                    --------------  -----         \n",
      " 0   route_id                  33184 non-null  object        \n",
      " 1   route_name                33184 non-null  object        \n",
      " 2   month_beginning           33184 non-null  datetime64[ns]\n",
      " 3   avg_weekday_rides         33184 non-null  float64       \n",
      " 4   avg_saturday_rides        33184 non-null  float64       \n",
      " 5   avg_sunday-holiday_rides  33184 non-null  float64       \n",
      " 6   month_total               33184 non-null  int64         \n",
      "dtypes: datetime64[ns](1), float64(3), int64(1), object(2)\n",
      "memory usage: 1.8+ MB\n"
     ]
    }
   ],
   "source": [
    "bus.info()"
   ]
  },
  {
   "cell_type": "code",
   "execution_count": 60,
   "id": "ea8f034f-fc1f-4b62-983a-16860f3aeda4",
   "metadata": {},
   "outputs": [
    {
     "name": "stdout",
     "output_type": "stream",
     "text": [
      "<class 'pandas.core.frame.DataFrame'>\n",
      "RangeIndex: 34475 entries, 0 to 34474\n",
      "Data columns (total 7 columns):\n",
      " #   Column                    Non-Null Count  Dtype         \n",
      "---  ------                    --------------  -----         \n",
      " 0   station_id                34475 non-null  int64         \n",
      " 1   station_name              34475 non-null  object        \n",
      " 2   month_beginning           34475 non-null  datetime64[ns]\n",
      " 3   avg_weekday_rides         34475 non-null  float64       \n",
      " 4   avg_saturday_rides        34475 non-null  float64       \n",
      " 5   avg_sunday-holiday_rides  34475 non-null  float64       \n",
      " 6   month_total               34475 non-null  int64         \n",
      "dtypes: datetime64[ns](1), float64(3), int64(2), object(1)\n",
      "memory usage: 1.8+ MB\n"
     ]
    }
   ],
   "source": [
    "train.info()"
   ]
  },
  {
   "cell_type": "code",
   "execution_count": 61,
   "id": "3e3f5c7a-0c1a-4089-8204-f0c32c0bf719",
   "metadata": {},
   "outputs": [],
   "source": [
    "bus.to_csv('clean_bus_avg_ridership.csv', index=False)\n",
    "train.to_csv('clean_train_avg_ridership.csv', index=False)"
   ]
  },
  {
   "cell_type": "markdown",
   "id": "1a737fa4-6b1f-4d25-af12-6cbe50187e65",
   "metadata": {},
   "source": [
    "### **EDA**"
   ]
  },
  {
   "cell_type": "code",
   "execution_count": 62,
   "id": "4853a088-b9e6-438d-8af4-97c1a296e0ff",
   "metadata": {},
   "outputs": [
    {
     "data": {
      "text/plain": [
       "192"
      ]
     },
     "execution_count": 62,
     "metadata": {},
     "output_type": "execute_result"
    }
   ],
   "source": [
    "bus['route_name'].nunique()"
   ]
  },
  {
   "cell_type": "code",
   "execution_count": 63,
   "id": "c1109620-4745-4422-8d55-83271c617106",
   "metadata": {},
   "outputs": [
    {
     "data": {
      "text/plain": [
       "148"
      ]
     },
     "execution_count": 63,
     "metadata": {},
     "output_type": "execute_result"
    }
   ],
   "source": [
    "train['station_name'].nunique()"
   ]
  },
  {
   "cell_type": "code",
   "execution_count": 64,
   "id": "01cedb44-bf1b-4e96-bd24-aae14cfdb3c0",
   "metadata": {},
   "outputs": [
    {
     "data": {
      "text/html": [
       "<div>\n",
       "<style scoped>\n",
       "    .dataframe tbody tr th:only-of-type {\n",
       "        vertical-align: middle;\n",
       "    }\n",
       "\n",
       "    .dataframe tbody tr th {\n",
       "        vertical-align: top;\n",
       "    }\n",
       "\n",
       "    .dataframe thead th {\n",
       "        text-align: right;\n",
       "    }\n",
       "</style>\n",
       "<table border=\"1\" class=\"dataframe\">\n",
       "  <thead>\n",
       "    <tr style=\"text-align: right;\">\n",
       "      <th></th>\n",
       "      <th>avg_weekday_rides</th>\n",
       "      <th>avg_saturday_rides</th>\n",
       "      <th>avg_sunday-holiday_rides</th>\n",
       "    </tr>\n",
       "    <tr>\n",
       "      <th>station_name</th>\n",
       "      <th></th>\n",
       "      <th></th>\n",
       "      <th></th>\n",
       "    </tr>\n",
       "  </thead>\n",
       "  <tbody>\n",
       "    <tr>\n",
       "      <th>18th</th>\n",
       "      <td>1459.538017</td>\n",
       "      <td>859.652066</td>\n",
       "      <td>626.624380</td>\n",
       "    </tr>\n",
       "    <tr>\n",
       "      <th>35-Bronzeville-IIT</th>\n",
       "      <td>2025.995041</td>\n",
       "      <td>1230.311570</td>\n",
       "      <td>875.473140</td>\n",
       "    </tr>\n",
       "    <tr>\n",
       "      <th>35th/Archer</th>\n",
       "      <td>2674.033471</td>\n",
       "      <td>1270.130165</td>\n",
       "      <td>861.809504</td>\n",
       "    </tr>\n",
       "    <tr>\n",
       "      <th>43rd</th>\n",
       "      <td>956.181405</td>\n",
       "      <td>534.361157</td>\n",
       "      <td>381.400413</td>\n",
       "    </tr>\n",
       "    <tr>\n",
       "      <th>47th-Dan Ryan</th>\n",
       "      <td>2853.844398</td>\n",
       "      <td>2022.249793</td>\n",
       "      <td>1519.847303</td>\n",
       "    </tr>\n",
       "    <tr>\n",
       "      <th>...</th>\n",
       "      <td>...</td>\n",
       "      <td>...</td>\n",
       "      <td>...</td>\n",
       "    </tr>\n",
       "    <tr>\n",
       "      <th>Western-Cermak</th>\n",
       "      <td>927.851653</td>\n",
       "      <td>504.230165</td>\n",
       "      <td>363.817769</td>\n",
       "    </tr>\n",
       "    <tr>\n",
       "      <th>Western-Forest Park</th>\n",
       "      <td>1373.958264</td>\n",
       "      <td>874.395868</td>\n",
       "      <td>649.431818</td>\n",
       "    </tr>\n",
       "    <tr>\n",
       "      <th>Western-Orange</th>\n",
       "      <td>3441.607438</td>\n",
       "      <td>1619.058264</td>\n",
       "      <td>1121.833884</td>\n",
       "    </tr>\n",
       "    <tr>\n",
       "      <th>Western/Milwaukee</th>\n",
       "      <td>4317.235950</td>\n",
       "      <td>2242.856612</td>\n",
       "      <td>1612.250000</td>\n",
       "    </tr>\n",
       "    <tr>\n",
       "      <th>Wilson</th>\n",
       "      <td>5564.055967</td>\n",
       "      <td>3716.041975</td>\n",
       "      <td>2562.164198</td>\n",
       "    </tr>\n",
       "  </tbody>\n",
       "</table>\n",
       "<p>148 rows × 3 columns</p>\n",
       "</div>"
      ],
      "text/plain": [
       "                     avg_weekday_rides  avg_saturday_rides  \\\n",
       "station_name                                                 \n",
       "18th                       1459.538017          859.652066   \n",
       "35-Bronzeville-IIT         2025.995041         1230.311570   \n",
       "35th/Archer                2674.033471         1270.130165   \n",
       "43rd                        956.181405          534.361157   \n",
       "47th-Dan Ryan              2853.844398         2022.249793   \n",
       "...                                ...                 ...   \n",
       "Western-Cermak              927.851653          504.230165   \n",
       "Western-Forest Park        1373.958264          874.395868   \n",
       "Western-Orange             3441.607438         1619.058264   \n",
       "Western/Milwaukee          4317.235950         2242.856612   \n",
       "Wilson                     5564.055967         3716.041975   \n",
       "\n",
       "                     avg_sunday-holiday_rides  \n",
       "station_name                                   \n",
       "18th                               626.624380  \n",
       "35-Bronzeville-IIT                 875.473140  \n",
       "35th/Archer                        861.809504  \n",
       "43rd                               381.400413  \n",
       "47th-Dan Ryan                     1519.847303  \n",
       "...                                       ...  \n",
       "Western-Cermak                     363.817769  \n",
       "Western-Forest Park                649.431818  \n",
       "Western-Orange                    1121.833884  \n",
       "Western/Milwaukee                 1612.250000  \n",
       "Wilson                            2562.164198  \n",
       "\n",
       "[148 rows x 3 columns]"
      ]
     },
     "execution_count": 64,
     "metadata": {},
     "output_type": "execute_result"
    }
   ],
   "source": [
    "train.groupby('station_name')[['avg_weekday_rides', 'avg_saturday_rides', 'avg_sunday-holiday_rides']].mean()"
   ]
  },
  {
   "cell_type": "code",
   "execution_count": 65,
   "id": "60de5766-024f-407d-8b5e-af53636e996d",
   "metadata": {},
   "outputs": [
    {
     "data": {
      "text/html": [
       "<div>\n",
       "<style scoped>\n",
       "    .dataframe tbody tr th:only-of-type {\n",
       "        vertical-align: middle;\n",
       "    }\n",
       "\n",
       "    .dataframe tbody tr th {\n",
       "        vertical-align: top;\n",
       "    }\n",
       "\n",
       "    .dataframe thead th {\n",
       "        text-align: right;\n",
       "    }\n",
       "</style>\n",
       "<table border=\"1\" class=\"dataframe\">\n",
       "  <thead>\n",
       "    <tr style=\"text-align: right;\">\n",
       "      <th></th>\n",
       "      <th>avg_weekday_rides</th>\n",
       "      <th>avg_saturday_rides</th>\n",
       "      <th>avg_sunday-holiday_rides</th>\n",
       "    </tr>\n",
       "    <tr>\n",
       "      <th>route_name</th>\n",
       "      <th></th>\n",
       "      <th></th>\n",
       "      <th></th>\n",
       "    </tr>\n",
       "  </thead>\n",
       "  <tbody>\n",
       "    <tr>\n",
       "      <th>111th/King Drive</th>\n",
       "      <td>3262.157000</td>\n",
       "      <td>1928.572000</td>\n",
       "      <td>1462.354000</td>\n",
       "    </tr>\n",
       "    <tr>\n",
       "      <th>16th/18th</th>\n",
       "      <td>2643.564876</td>\n",
       "      <td>1683.414876</td>\n",
       "      <td>1358.840496</td>\n",
       "    </tr>\n",
       "    <tr>\n",
       "      <th>31st</th>\n",
       "      <td>441.200000</td>\n",
       "      <td>0.000000</td>\n",
       "      <td>0.000000</td>\n",
       "    </tr>\n",
       "    <tr>\n",
       "      <th>31st/35th</th>\n",
       "      <td>4718.989109</td>\n",
       "      <td>2724.126733</td>\n",
       "      <td>2034.046535</td>\n",
       "    </tr>\n",
       "    <tr>\n",
       "      <th>35th</th>\n",
       "      <td>5776.268794</td>\n",
       "      <td>3360.079433</td>\n",
       "      <td>2085.128369</td>\n",
       "    </tr>\n",
       "    <tr>\n",
       "      <th>...</th>\n",
       "      <td>...</td>\n",
       "      <td>...</td>\n",
       "      <td>...</td>\n",
       "    </tr>\n",
       "    <tr>\n",
       "      <th>Westchester</th>\n",
       "      <td>503.220139</td>\n",
       "      <td>0.000000</td>\n",
       "      <td>0.000000</td>\n",
       "    </tr>\n",
       "    <tr>\n",
       "      <th>Western</th>\n",
       "      <td>20468.054959</td>\n",
       "      <td>17855.407438</td>\n",
       "      <td>12413.902066</td>\n",
       "    </tr>\n",
       "    <tr>\n",
       "      <th>Western Express</th>\n",
       "      <td>8630.285549</td>\n",
       "      <td>0.836416</td>\n",
       "      <td>2.014451</td>\n",
       "    </tr>\n",
       "    <tr>\n",
       "      <th>Wilson/Michigan Express</th>\n",
       "      <td>6861.240972</td>\n",
       "      <td>4265.640278</td>\n",
       "      <td>2649.383333</td>\n",
       "    </tr>\n",
       "    <tr>\n",
       "      <th>Wrigley Field Express</th>\n",
       "      <td>786.939362</td>\n",
       "      <td>705.863830</td>\n",
       "      <td>965.172340</td>\n",
       "    </tr>\n",
       "  </tbody>\n",
       "</table>\n",
       "<p>192 rows × 3 columns</p>\n",
       "</div>"
      ],
      "text/plain": [
       "                         avg_weekday_rides  avg_saturday_rides  \\\n",
       "route_name                                                       \n",
       "111th/King Drive               3262.157000         1928.572000   \n",
       "16th/18th                      2643.564876         1683.414876   \n",
       "31st                            441.200000            0.000000   \n",
       "31st/35th                      4718.989109         2724.126733   \n",
       "35th                           5776.268794         3360.079433   \n",
       "...                                    ...                 ...   \n",
       "Westchester                     503.220139            0.000000   \n",
       "Western                       20468.054959        17855.407438   \n",
       "Western Express                8630.285549            0.836416   \n",
       "Wilson/Michigan Express        6861.240972         4265.640278   \n",
       "Wrigley Field Express           786.939362          705.863830   \n",
       "\n",
       "                         avg_sunday-holiday_rides  \n",
       "route_name                                         \n",
       "111th/King Drive                      1462.354000  \n",
       "16th/18th                             1358.840496  \n",
       "31st                                     0.000000  \n",
       "31st/35th                             2034.046535  \n",
       "35th                                  2085.128369  \n",
       "...                                           ...  \n",
       "Westchester                              0.000000  \n",
       "Western                              12413.902066  \n",
       "Western Express                          2.014451  \n",
       "Wilson/Michigan Express               2649.383333  \n",
       "Wrigley Field Express                  965.172340  \n",
       "\n",
       "[192 rows x 3 columns]"
      ]
     },
     "execution_count": 65,
     "metadata": {},
     "output_type": "execute_result"
    }
   ],
   "source": [
    "bus.groupby('route_name')[['avg_weekday_rides', 'avg_saturday_rides', 'avg_sunday-holiday_rides']].mean()"
   ]
  },
  {
   "cell_type": "code",
   "execution_count": 66,
   "id": "687f64bf-8a1c-4b4b-b25d-afbec888bd03",
   "metadata": {},
   "outputs": [],
   "source": [
    "mean_by_trainstation = train.groupby('station_name')[['avg_weekday_rides', 'avg_saturday_rides', 'avg_sunday-holiday_rides']].agg([np.mean])\n",
    "mean_by_trainstation.columns = mean_by_trainstation.columns.map('_'.join)\n",
    "top_20_train = mean_by_trainstation.sort_values(by=['avg_weekday_rides_mean', 'avg_saturday_rides_mean', 'avg_sunday-holiday_rides_mean'], ascending=False).head(20)"
   ]
  },
  {
   "cell_type": "code",
   "execution_count": 67,
   "id": "1a872b37-8d6e-4c8d-b455-be1d31916746",
   "metadata": {},
   "outputs": [],
   "source": [
    "mean_by_busroute = bus.groupby('route_name')[['avg_weekday_rides', 'avg_saturday_rides', 'avg_sunday-holiday_rides']].agg([np.mean])\n",
    "mean_by_busroute.columns = mean_by_busroute.columns.map('_'.join)\n",
    "top_20_bus = mean_by_busroute.sort_values(by=['avg_weekday_rides_mean', 'avg_saturday_rides_mean', 'avg_sunday-holiday_rides_mean'], ascending=False).head(20)"
   ]
  },
  {
   "cell_type": "code",
   "execution_count": 68,
   "id": "bbe31975-0acc-47e4-a5ca-6dd66a173c0b",
   "metadata": {},
   "outputs": [
    {
     "data": {
      "image/png": "[encoded data removed]",
      "text/plain": [
       "<Figure size 1440x1080 with 1 Axes>"
      ]
     },
     "metadata": {
      "needs_background": "light"
     },
     "output_type": "display_data"
    }
   ],
   "source": [
    "plt.figure(figsize=(20,15))\n",
    "plt.title('Weekday Bus Ridership By Bus Route',fontsize=18)\n",
    "sns.barplot(x=top_20_bus['avg_weekday_rides_mean'], y=top_20_bus.index, palette='summer');\n",
    "plt.savefig('weekday_ridership_bus.png')"
   ]
  },
  {
   "cell_type": "code",
   "execution_count": 69,
   "id": "1bed8dbc-818b-4109-affd-e2ac1b69198b",
   "metadata": {},
   "outputs": [
    {
     "data": {
      "image/png": "[encoded data removed]",
      "text/plain": [
       "<Figure size 1440x1080 with 1 Axes>"
      ]
     },
     "metadata": {
      "needs_background": "light"
     },
     "output_type": "display_data"
    }
   ],
   "source": [
    "plt.figure(figsize=(20,15))\n",
    "plt.title('Weekday Train Ridership By Train Station',fontsize=18)\n",
    "sns.barplot(x=top_20_train['avg_weekday_rides_mean'], y=top_20_train.index, palette='summer');\n",
    "plt.savefig('weekday_ridership_train.png')"
   ]
  },
  {
   "cell_type": "code",
   "execution_count": 70,
   "id": "ea602600-cdcf-457f-9bab-367b4beac584",
   "metadata": {},
   "outputs": [
    {
     "data": {
      "image/png": "[encoded data removed]",
      "text/plain": [
       "<Figure size 1440x1080 with 1 Axes>"
      ]
     },
     "metadata": {
      "needs_background": "light"
     },
     "output_type": "display_data"
    }
   ],
   "source": [
    "plt.figure(figsize=(20,15))\n",
    "plt.title('Saturday Bus Ridership By Bus Route',fontsize=18)\n",
    "sns.barplot(x=top_20_bus['avg_saturday_rides_mean'], y=top_20_bus.index, palette='OrRd_r');\n",
    "plt.savefig('saturday_ridership_bus.png')"
   ]
  },
  {
   "cell_type": "code",
   "execution_count": 71,
   "id": "e5128da1-4e4b-41f3-827f-3b8d762cdb4e",
   "metadata": {},
   "outputs": [
    {
     "data": {
      "image/png": "[encoded data removed]",
      "text/plain": [
       "<Figure size 1440x1080 with 1 Axes>"
      ]
     },
     "metadata": {
      "needs_background": "light"
     },
     "output_type": "display_data"
    }
   ],
   "source": [
    "plt.figure(figsize=(20,15))\n",
    "plt.title('Saturday Train Ridership By Train Station',fontsize=18)\n",
    "sns.barplot(x=top_20_train['avg_saturday_rides_mean'], y=top_20_train.index, palette='OrRd_r');\n",
    "plt.savefig('saturday_ridership_train.png')"
   ]
  },
  {
   "cell_type": "code",
   "execution_count": 72,
   "id": "ae040489-28a3-48f0-a3e4-23b76bbed66e",
   "metadata": {},
   "outputs": [
    {
     "data": {
      "image/png": "[encoded data removed]",
      "text/plain": [
       "<Figure size 1440x1080 with 1 Axes>"
      ]
     },
     "metadata": {
      "needs_background": "light"
     },
     "output_type": "display_data"
    }
   ],
   "source": [
    "plt.figure(figsize=(20,15))\n",
    "plt.title('Sunday & Holiday Bus Ridership By Bus Route',fontsize=18)\n",
    "sns.barplot(x=top_20_bus['avg_sunday-holiday_rides_mean'], y=top_20_bus.index, palette='GnBu_r');\n",
    "plt.savefig('sun_holiday_ridership_bus.png')"
   ]
  },
  {
   "cell_type": "code",
   "execution_count": 73,
   "id": "792d261d-2ce1-437e-843a-2372d53eb3cc",
   "metadata": {},
   "outputs": [
    {
     "data": {
      "image/png": "[encoded data removed]",
      "text/plain": [
       "<Figure size 1440x1080 with 1 Axes>"
      ]
     },
     "metadata": {
      "needs_background": "light"
     },
     "output_type": "display_data"
    }
   ],
   "source": [
    "plt.figure(figsize=(20,15))\n",
    "plt.title('Sunday & Holiday Train Ridership By Train Station',fontsize=18)\n",
    "sns.barplot(x=top_20_train['avg_sunday-holiday_rides_mean'], y=top_20_train.index, palette='GnBu_r');\n",
    "plt.savefig('sun_holiday_ridership_train.png')"
   ]
  },
  {
   "cell_type": "code",
   "execution_count": 74,
   "id": "5eedaac0-5bad-47f0-8921-14b99abef354",
   "metadata": {},
   "outputs": [],
   "source": [
    "mean_by_month_bus = bus.groupby('month_beginning')[['avg_weekday_rides', 'avg_saturday_rides', 'avg_sunday-holiday_rides']].mean()\n",
    "mean_by_month_bus.columns = mean_by_month_bus.columns.map(''.join)\n",
    "top_20_month_bus = mean_by_month_bus.sort_values(by=['avg_weekday_rides', 'avg_saturday_rides', 'avg_sunday-holiday_rides'], ascending=False).head(20)"
   ]
  },
  {
   "cell_type": "code",
   "execution_count": 75,
   "id": "3b972e99-a830-41cc-b230-baa2bbedc8be",
   "metadata": {},
   "outputs": [],
   "source": [
    "mean_by_month_train = train.groupby('month_beginning')[['avg_weekday_rides', 'avg_saturday_rides', 'avg_sunday-holiday_rides']].mean()\n",
    "mean_by_month_train.columns = mean_by_month_train.columns.map(''.join)\n",
    "top_20_month_train = mean_by_month_train.sort_values(by=['avg_weekday_rides', 'avg_saturday_rides', 'avg_sunday-holiday_rides'], ascending=False).head(20)"
   ]
  },
  {
   "cell_type": "code",
   "execution_count": 76,
   "id": "c94d863c-4dac-4fdf-9ae9-75eb2f263b3a",
   "metadata": {},
   "outputs": [
    {
     "data": {
      "image/png": "[encoded data removed]",
      "text/plain": [
       "<Figure size 1440x1080 with 1 Axes>"
      ]
     },
     "metadata": {
      "needs_background": "light"
     },
     "output_type": "display_data"
    }
   ],
   "source": [
    "plt.figure(figsize=(20,15))\n",
    "plt.title('Weekday Bus Ridership By Month',fontsize=18)\n",
    "sns.barplot(x=top_20_month_bus['avg_weekday_rides'], y=top_20_month_bus.index, palette='crest');\n",
    "plt.savefig('bymonth_weekday_ridership_bus.png')"
   ]
  },
  {
   "cell_type": "code",
   "execution_count": 77,
   "id": "9f403878-976a-4bc7-8404-146ddd48a9c3",
   "metadata": {},
   "outputs": [
    {
     "data": {
      "image/png": "[encoded data removed]",
      "text/plain": [
       "<Figure size 1440x1080 with 1 Axes>"
      ]
     },
     "metadata": {
      "needs_background": "light"
     },
     "output_type": "display_data"
    }
   ],
   "source": [
    "plt.figure(figsize=(20,15))\n",
    "plt.title('Weekday Train Ridership By Month',fontsize=18)\n",
    "sns.barplot(x=top_20_month_train['avg_weekday_rides'], y=top_20_month_train.index, palette='crest');\n",
    "plt.savefig('bymonth_weekday_ridership_train.png')"
   ]
  },
  {
   "cell_type": "markdown",
   "id": "8699ca88-5d6d-4b4b-9769-05b4ea6f9d56",
   "metadata": {},
   "source": [
    "### **Need to grab latitude and longitude from another dataset**"
   ]
  },
  {
   "cell_type": "code",
   "execution_count": 86,
   "id": "291a97de-9a36-43e5-8995-1c87a2cd9c83",
   "metadata": {},
   "outputs": [],
   "source": [
    "train_list = pd.read_csv('datasets/CTA_-_System_Information_-_List_of__L__Stops.csv')"
   ]
  },
  {
   "cell_type": "code",
   "execution_count": 87,
   "id": "7263a7ee-9ea8-4ba9-86b1-487235e06b14",
   "metadata": {},
   "outputs": [
    {
     "data": {
      "text/html": [
       "<div>\n",
       "<style scoped>\n",
       "    .dataframe tbody tr th:only-of-type {\n",
       "        vertical-align: middle;\n",
       "    }\n",
       "\n",
       "    .dataframe tbody tr th {\n",
       "        vertical-align: top;\n",
       "    }\n",
       "\n",
       "    .dataframe thead th {\n",
       "        text-align: right;\n",
       "    }\n",
       "</style>\n",
       "<table border=\"1\" class=\"dataframe\">\n",
       "  <thead>\n",
       "    <tr style=\"text-align: right;\">\n",
       "      <th></th>\n",
       "      <th>STOP_ID</th>\n",
       "      <th>DIRECTION_ID</th>\n",
       "      <th>STOP_NAME</th>\n",
       "      <th>STATION_NAME</th>\n",
       "      <th>STATION_DESCRIPTIVE_NAME</th>\n",
       "      <th>MAP_ID</th>\n",
       "      <th>ADA</th>\n",
       "      <th>RED</th>\n",
       "      <th>BLUE</th>\n",
       "      <th>G</th>\n",
       "      <th>BRN</th>\n",
       "      <th>P</th>\n",
       "      <th>Pexp</th>\n",
       "      <th>Y</th>\n",
       "      <th>Pnk</th>\n",
       "      <th>O</th>\n",
       "      <th>Location</th>\n",
       "    </tr>\n",
       "  </thead>\n",
       "  <tbody>\n",
       "    <tr>\n",
       "      <th>0</th>\n",
       "      <td>30162</td>\n",
       "      <td>W</td>\n",
       "      <td>18th (54th/Cermak-bound)</td>\n",
       "      <td>18th</td>\n",
       "      <td>18th (Pink Line)</td>\n",
       "      <td>40830</td>\n",
       "      <td>True</td>\n",
       "      <td>False</td>\n",
       "      <td>False</td>\n",
       "      <td>False</td>\n",
       "      <td>False</td>\n",
       "      <td>False</td>\n",
       "      <td>False</td>\n",
       "      <td>False</td>\n",
       "      <td>True</td>\n",
       "      <td>False</td>\n",
       "      <td>(41.857908, -87.669147)</td>\n",
       "    </tr>\n",
       "    <tr>\n",
       "      <th>1</th>\n",
       "      <td>30161</td>\n",
       "      <td>E</td>\n",
       "      <td>18th (Loop-bound)</td>\n",
       "      <td>18th</td>\n",
       "      <td>18th (Pink Line)</td>\n",
       "      <td>40830</td>\n",
       "      <td>True</td>\n",
       "      <td>False</td>\n",
       "      <td>False</td>\n",
       "      <td>False</td>\n",
       "      <td>False</td>\n",
       "      <td>False</td>\n",
       "      <td>False</td>\n",
       "      <td>False</td>\n",
       "      <td>True</td>\n",
       "      <td>False</td>\n",
       "      <td>(41.857908, -87.669147)</td>\n",
       "    </tr>\n",
       "    <tr>\n",
       "      <th>2</th>\n",
       "      <td>30022</td>\n",
       "      <td>N</td>\n",
       "      <td>35th/Archer (Loop-bound)</td>\n",
       "      <td>35th/Archer</td>\n",
       "      <td>35th/Archer (Orange Line)</td>\n",
       "      <td>40120</td>\n",
       "      <td>True</td>\n",
       "      <td>False</td>\n",
       "      <td>False</td>\n",
       "      <td>False</td>\n",
       "      <td>False</td>\n",
       "      <td>False</td>\n",
       "      <td>False</td>\n",
       "      <td>False</td>\n",
       "      <td>False</td>\n",
       "      <td>True</td>\n",
       "      <td>(41.829353, -87.680622)</td>\n",
       "    </tr>\n",
       "    <tr>\n",
       "      <th>3</th>\n",
       "      <td>30023</td>\n",
       "      <td>S</td>\n",
       "      <td>35th/Archer (Midway-bound)</td>\n",
       "      <td>35th/Archer</td>\n",
       "      <td>35th/Archer (Orange Line)</td>\n",
       "      <td>40120</td>\n",
       "      <td>True</td>\n",
       "      <td>False</td>\n",
       "      <td>False</td>\n",
       "      <td>False</td>\n",
       "      <td>False</td>\n",
       "      <td>False</td>\n",
       "      <td>False</td>\n",
       "      <td>False</td>\n",
       "      <td>False</td>\n",
       "      <td>True</td>\n",
       "      <td>(41.829353, -87.680622)</td>\n",
       "    </tr>\n",
       "    <tr>\n",
       "      <th>4</th>\n",
       "      <td>30214</td>\n",
       "      <td>S</td>\n",
       "      <td>35-Bronzeville-IIT (63rd-bound)</td>\n",
       "      <td>35th-Bronzeville-IIT</td>\n",
       "      <td>35th-Bronzeville-IIT (Green Line)</td>\n",
       "      <td>41120</td>\n",
       "      <td>True</td>\n",
       "      <td>False</td>\n",
       "      <td>False</td>\n",
       "      <td>True</td>\n",
       "      <td>False</td>\n",
       "      <td>False</td>\n",
       "      <td>False</td>\n",
       "      <td>False</td>\n",
       "      <td>False</td>\n",
       "      <td>False</td>\n",
       "      <td>(41.831677, -87.625826)</td>\n",
       "    </tr>\n",
       "  </tbody>\n",
       "</table>\n",
       "</div>"
      ],
      "text/plain": [
       "   STOP_ID DIRECTION_ID                        STOP_NAME  \\\n",
       "0    30162            W         18th (54th/Cermak-bound)   \n",
       "1    30161            E                18th (Loop-bound)   \n",
       "2    30022            N         35th/Archer (Loop-bound)   \n",
       "3    30023            S       35th/Archer (Midway-bound)   \n",
       "4    30214            S  35-Bronzeville-IIT (63rd-bound)   \n",
       "\n",
       "           STATION_NAME           STATION_DESCRIPTIVE_NAME  MAP_ID   ADA  \\\n",
       "0                  18th                   18th (Pink Line)   40830  True   \n",
       "1                  18th                   18th (Pink Line)   40830  True   \n",
       "2           35th/Archer          35th/Archer (Orange Line)   40120  True   \n",
       "3           35th/Archer          35th/Archer (Orange Line)   40120  True   \n",
       "4  35th-Bronzeville-IIT  35th-Bronzeville-IIT (Green Line)   41120  True   \n",
       "\n",
       "     RED   BLUE      G    BRN      P   Pexp      Y    Pnk      O  \\\n",
       "0  False  False  False  False  False  False  False   True  False   \n",
       "1  False  False  False  False  False  False  False   True  False   \n",
       "2  False  False  False  False  False  False  False  False   True   \n",
       "3  False  False  False  False  False  False  False  False   True   \n",
       "4  False  False   True  False  False  False  False  False  False   \n",
       "\n",
       "                  Location  \n",
       "0  (41.857908, -87.669147)  \n",
       "1  (41.857908, -87.669147)  \n",
       "2  (41.829353, -87.680622)  \n",
       "3  (41.829353, -87.680622)  \n",
       "4  (41.831677, -87.625826)  "
      ]
     },
     "execution_count": 87,
     "metadata": {},
     "output_type": "execute_result"
    }
   ],
   "source": [
    "train_list.head()"
   ]
  },
  {
   "cell_type": "markdown",
   "id": "c937788c-93ab-4752-b6ec-225e9704b1ba",
   "metadata": {},
   "source": [
    "##### check to see if stop_id or map_id matches with station_id from other train averages dataset"
   ]
  },
  {
   "cell_type": "code",
   "execution_count": 88,
   "id": "0fefb373-e71d-470c-96a9-f6b585bbe137",
   "metadata": {},
   "outputs": [
    {
     "name": "stdout",
     "output_type": "stream",
     "text": [
      "300\n",
      "143\n",
      "147\n"
     ]
    }
   ],
   "source": [
    "print(train_list['STOP_ID'].nunique())\n",
    "print(train_list['MAP_ID'].nunique())\n",
    "print(train['station_id'].nunique())"
   ]
  },
  {
   "cell_type": "markdown",
   "id": "648a02d0-60e3-445e-b3ef-ccf2bd3d18ab",
   "metadata": {},
   "source": [
    "#### concat datasets on map_id"
   ]
  },
  {
   "cell_type": "code",
   "execution_count": 89,
   "id": "0e2001e5-3c2b-4e8e-8fd9-a3fe66b375e1",
   "metadata": {},
   "outputs": [
    {
     "data": {
      "text/html": [
       "<div>\n",
       "<style scoped>\n",
       "    .dataframe tbody tr th:only-of-type {\n",
       "        vertical-align: middle;\n",
       "    }\n",
       "\n",
       "    .dataframe tbody tr th {\n",
       "        vertical-align: top;\n",
       "    }\n",
       "\n",
       "    .dataframe thead th {\n",
       "        text-align: right;\n",
       "    }\n",
       "</style>\n",
       "<table border=\"1\" class=\"dataframe\">\n",
       "  <thead>\n",
       "    <tr style=\"text-align: right;\">\n",
       "      <th></th>\n",
       "      <th>MAP_ID</th>\n",
       "      <th>Location</th>\n",
       "    </tr>\n",
       "  </thead>\n",
       "  <tbody>\n",
       "    <tr>\n",
       "      <th>0</th>\n",
       "      <td>40830</td>\n",
       "      <td>(41.857908, -87.669147)</td>\n",
       "    </tr>\n",
       "    <tr>\n",
       "      <th>1</th>\n",
       "      <td>40830</td>\n",
       "      <td>(41.857908, -87.669147)</td>\n",
       "    </tr>\n",
       "    <tr>\n",
       "      <th>2</th>\n",
       "      <td>40120</td>\n",
       "      <td>(41.829353, -87.680622)</td>\n",
       "    </tr>\n",
       "    <tr>\n",
       "      <th>3</th>\n",
       "      <td>40120</td>\n",
       "      <td>(41.829353, -87.680622)</td>\n",
       "    </tr>\n",
       "    <tr>\n",
       "      <th>4</th>\n",
       "      <td>41120</td>\n",
       "      <td>(41.831677, -87.625826)</td>\n",
       "    </tr>\n",
       "  </tbody>\n",
       "</table>\n",
       "</div>"
      ],
      "text/plain": [
       "   MAP_ID                 Location\n",
       "0   40830  (41.857908, -87.669147)\n",
       "1   40830  (41.857908, -87.669147)\n",
       "2   40120  (41.829353, -87.680622)\n",
       "3   40120  (41.829353, -87.680622)\n",
       "4   41120  (41.831677, -87.625826)"
      ]
     },
     "execution_count": 89,
     "metadata": {},
     "output_type": "execute_result"
    }
   ],
   "source": [
    "df=train_list.loc[: , ['MAP_ID', 'Location']]\n",
    "df.head()"
   ]
  },
  {
   "cell_type": "code",
   "execution_count": 90,
   "id": "e0ff86be-c0e0-43c7-a991-6d4f9a97af3f",
   "metadata": {},
   "outputs": [
    {
     "data": {
      "text/html": [
       "<div>\n",
       "<style scoped>\n",
       "    .dataframe tbody tr th:only-of-type {\n",
       "        vertical-align: middle;\n",
       "    }\n",
       "\n",
       "    .dataframe tbody tr th {\n",
       "        vertical-align: top;\n",
       "    }\n",
       "\n",
       "    .dataframe thead th {\n",
       "        text-align: right;\n",
       "    }\n",
       "</style>\n",
       "<table border=\"1\" class=\"dataframe\">\n",
       "  <thead>\n",
       "    <tr style=\"text-align: right;\">\n",
       "      <th></th>\n",
       "      <th>station_id</th>\n",
       "      <th>station_name</th>\n",
       "      <th>month_beginning</th>\n",
       "      <th>avg_weekday_rides</th>\n",
       "      <th>avg_saturday_rides</th>\n",
       "      <th>avg_sunday-holiday_rides</th>\n",
       "      <th>month_total</th>\n",
       "    </tr>\n",
       "  </thead>\n",
       "  <tbody>\n",
       "    <tr>\n",
       "      <th>0</th>\n",
       "      <td>40900</td>\n",
       "      <td>Howard</td>\n",
       "      <td>2001-01-01</td>\n",
       "      <td>6233.9</td>\n",
       "      <td>3814.5</td>\n",
       "      <td>2408.6</td>\n",
       "      <td>164447</td>\n",
       "    </tr>\n",
       "    <tr>\n",
       "      <th>1</th>\n",
       "      <td>41190</td>\n",
       "      <td>Jarvis</td>\n",
       "      <td>2001-01-01</td>\n",
       "      <td>1489.1</td>\n",
       "      <td>1054.0</td>\n",
       "      <td>718.0</td>\n",
       "      <td>40567</td>\n",
       "    </tr>\n",
       "    <tr>\n",
       "      <th>2</th>\n",
       "      <td>40100</td>\n",
       "      <td>Morse</td>\n",
       "      <td>2001-01-01</td>\n",
       "      <td>4412.5</td>\n",
       "      <td>3064.5</td>\n",
       "      <td>2087.8</td>\n",
       "      <td>119772</td>\n",
       "    </tr>\n",
       "    <tr>\n",
       "      <th>3</th>\n",
       "      <td>41300</td>\n",
       "      <td>Loyola</td>\n",
       "      <td>2001-01-01</td>\n",
       "      <td>4664.5</td>\n",
       "      <td>3156.0</td>\n",
       "      <td>1952.8</td>\n",
       "      <td>125008</td>\n",
       "    </tr>\n",
       "    <tr>\n",
       "      <th>4</th>\n",
       "      <td>40760</td>\n",
       "      <td>Granville</td>\n",
       "      <td>2001-01-01</td>\n",
       "      <td>3109.8</td>\n",
       "      <td>2126.0</td>\n",
       "      <td>1453.8</td>\n",
       "      <td>84189</td>\n",
       "    </tr>\n",
       "  </tbody>\n",
       "</table>\n",
       "</div>"
      ],
      "text/plain": [
       "   station_id station_name month_beginning  avg_weekday_rides  \\\n",
       "0       40900       Howard      2001-01-01             6233.9   \n",
       "1       41190       Jarvis      2001-01-01             1489.1   \n",
       "2       40100        Morse      2001-01-01             4412.5   \n",
       "3       41300       Loyola      2001-01-01             4664.5   \n",
       "4       40760    Granville      2001-01-01             3109.8   \n",
       "\n",
       "   avg_saturday_rides  avg_sunday-holiday_rides  month_total  \n",
       "0              3814.5                    2408.6       164447  \n",
       "1              1054.0                     718.0        40567  \n",
       "2              3064.5                    2087.8       119772  \n",
       "3              3156.0                    1952.8       125008  \n",
       "4              2126.0                    1453.8        84189  "
      ]
     },
     "execution_count": 90,
     "metadata": {},
     "output_type": "execute_result"
    }
   ],
   "source": [
    "train.head()"
   ]
  },
  {
   "cell_type": "code",
   "execution_count": 91,
   "id": "cc1582dd-0503-4588-8b03-0b18db6f4e21",
   "metadata": {},
   "outputs": [],
   "source": [
    "df = pd.merge(left=train, right=df, how='left', left_on=train['station_id'], right_on=df['MAP_ID'])"
   ]
  },
  {
   "cell_type": "code",
   "execution_count": 93,
   "id": "9a92a6e4-711c-465f-9829-7467b240bb75",
   "metadata": {},
   "outputs": [
    {
     "data": {
      "text/html": [
       "<div>\n",
       "<style scoped>\n",
       "    .dataframe tbody tr th:only-of-type {\n",
       "        vertical-align: middle;\n",
       "    }\n",
       "\n",
       "    .dataframe tbody tr th {\n",
       "        vertical-align: top;\n",
       "    }\n",
       "\n",
       "    .dataframe thead th {\n",
       "        text-align: right;\n",
       "    }\n",
       "</style>\n",
       "<table border=\"1\" class=\"dataframe\">\n",
       "  <thead>\n",
       "    <tr style=\"text-align: right;\">\n",
       "      <th></th>\n",
       "      <th>station_id</th>\n",
       "      <th>station_name</th>\n",
       "      <th>month_beginning</th>\n",
       "      <th>avg_weekday_rides</th>\n",
       "      <th>avg_saturday_rides</th>\n",
       "      <th>avg_sunday-holiday_rides</th>\n",
       "      <th>month_total</th>\n",
       "      <th>Location</th>\n",
       "    </tr>\n",
       "  </thead>\n",
       "  <tbody>\n",
       "    <tr>\n",
       "      <th>0</th>\n",
       "      <td>40900</td>\n",
       "      <td>Howard</td>\n",
       "      <td>2001-01-01</td>\n",
       "      <td>6233.9</td>\n",
       "      <td>3814.5</td>\n",
       "      <td>2408.6</td>\n",
       "      <td>164447</td>\n",
       "      <td>(42.019063, -87.672892)</td>\n",
       "    </tr>\n",
       "    <tr>\n",
       "      <th>1</th>\n",
       "      <td>40900</td>\n",
       "      <td>Howard</td>\n",
       "      <td>2001-01-01</td>\n",
       "      <td>6233.9</td>\n",
       "      <td>3814.5</td>\n",
       "      <td>2408.6</td>\n",
       "      <td>164447</td>\n",
       "      <td>(42.019063, -87.672892)</td>\n",
       "    </tr>\n",
       "    <tr>\n",
       "      <th>2</th>\n",
       "      <td>40900</td>\n",
       "      <td>Howard</td>\n",
       "      <td>2001-01-01</td>\n",
       "      <td>6233.9</td>\n",
       "      <td>3814.5</td>\n",
       "      <td>2408.6</td>\n",
       "      <td>164447</td>\n",
       "      <td>(42.019063, -87.672892)</td>\n",
       "    </tr>\n",
       "    <tr>\n",
       "      <th>3</th>\n",
       "      <td>40900</td>\n",
       "      <td>Howard</td>\n",
       "      <td>2001-01-01</td>\n",
       "      <td>6233.9</td>\n",
       "      <td>3814.5</td>\n",
       "      <td>2408.6</td>\n",
       "      <td>164447</td>\n",
       "      <td>(42.019063, -87.672892)</td>\n",
       "    </tr>\n",
       "    <tr>\n",
       "      <th>4</th>\n",
       "      <td>41190</td>\n",
       "      <td>Jarvis</td>\n",
       "      <td>2001-01-01</td>\n",
       "      <td>1489.1</td>\n",
       "      <td>1054.0</td>\n",
       "      <td>718.0</td>\n",
       "      <td>40567</td>\n",
       "      <td>(42.015876, -87.669092)</td>\n",
       "    </tr>\n",
       "  </tbody>\n",
       "</table>\n",
       "</div>"
      ],
      "text/plain": [
       "   station_id station_name month_beginning  avg_weekday_rides  \\\n",
       "0       40900       Howard      2001-01-01             6233.9   \n",
       "1       40900       Howard      2001-01-01             6233.9   \n",
       "2       40900       Howard      2001-01-01             6233.9   \n",
       "3       40900       Howard      2001-01-01             6233.9   \n",
       "4       41190       Jarvis      2001-01-01             1489.1   \n",
       "\n",
       "   avg_saturday_rides  avg_sunday-holiday_rides  month_total  \\\n",
       "0              3814.5                    2408.6       164447   \n",
       "1              3814.5                    2408.6       164447   \n",
       "2              3814.5                    2408.6       164447   \n",
       "3              3814.5                    2408.6       164447   \n",
       "4              1054.0                     718.0        40567   \n",
       "\n",
       "                  Location  \n",
       "0  (42.019063, -87.672892)  \n",
       "1  (42.019063, -87.672892)  \n",
       "2  (42.019063, -87.672892)  \n",
       "3  (42.019063, -87.672892)  \n",
       "4  (42.015876, -87.669092)  "
      ]
     },
     "execution_count": 93,
     "metadata": {},
     "output_type": "execute_result"
    }
   ],
   "source": [
    "df.drop(columns=['key_0', 'MAP_ID'], inplace=True)\n",
    "df.head()"
   ]
  },
  {
   "cell_type": "code",
   "execution_count": 105,
   "id": "eb947f47-1ed9-410d-93f9-db2e40ec341e",
   "metadata": {},
   "outputs": [],
   "source": [
    "df = df[df['Location'].notna()]"
   ]
  },
  {
   "cell_type": "code",
   "execution_count": 106,
   "id": "e3070ede-54c6-495b-a6d1-4330e3b0250b",
   "metadata": {},
   "outputs": [
    {
     "data": {
      "text/plain": [
       "station_id                  0\n",
       "station_name                0\n",
       "month_beginning             0\n",
       "avg_weekday_rides           0\n",
       "avg_saturday_rides          0\n",
       "avg_sunday-holiday_rides    0\n",
       "month_total                 0\n",
       "Location                    0\n",
       "dtype: int64"
      ]
     },
     "execution_count": 106,
     "metadata": {},
     "output_type": "execute_result"
    }
   ],
   "source": [
    "df.isna().sum()"
   ]
  },
  {
   "cell_type": "code",
   "execution_count": 107,
   "id": "3f2f87f2-9d42-4a1f-ad4a-664281b93cb5",
   "metadata": {},
   "outputs": [
    {
     "name": "stdout",
     "output_type": "stream",
     "text": [
      "<class 'pandas.core.frame.DataFrame'>\n",
      "Int64Index: 71300 entries, 0 to 71819\n",
      "Data columns (total 8 columns):\n",
      " #   Column                    Non-Null Count  Dtype         \n",
      "---  ------                    --------------  -----         \n",
      " 0   station_id                71300 non-null  int64         \n",
      " 1   station_name              71300 non-null  object        \n",
      " 2   month_beginning           71300 non-null  datetime64[ns]\n",
      " 3   avg_weekday_rides         71300 non-null  float64       \n",
      " 4   avg_saturday_rides        71300 non-null  float64       \n",
      " 5   avg_sunday-holiday_rides  71300 non-null  float64       \n",
      " 6   month_total               71300 non-null  int64         \n",
      " 7   Location                  71300 non-null  object        \n",
      "dtypes: datetime64[ns](1), float64(3), int64(2), object(2)\n",
      "memory usage: 4.9+ MB\n"
     ]
    }
   ],
   "source": [
    "df.info()"
   ]
  },
  {
   "cell_type": "code",
   "execution_count": 114,
   "id": "7b769c12-4f7b-4e9e-b4ad-5919f87c7ae9",
   "metadata": {},
   "outputs": [],
   "source": [
    "df['Location'] = df['Location'].apply(make_tuple)"
   ]
  },
  {
   "cell_type": "code",
   "execution_count": 115,
   "id": "8f7e330d-ceb6-4b8b-a2d7-48a9e02cf250",
   "metadata": {},
   "outputs": [
    {
     "data": {
      "text/html": [
       "<div>\n",
       "<style scoped>\n",
       "    .dataframe tbody tr th:only-of-type {\n",
       "        vertical-align: middle;\n",
       "    }\n",
       "\n",
       "    .dataframe tbody tr th {\n",
       "        vertical-align: top;\n",
       "    }\n",
       "\n",
       "    .dataframe thead th {\n",
       "        text-align: right;\n",
       "    }\n",
       "</style>\n",
       "<table border=\"1\" class=\"dataframe\">\n",
       "  <thead>\n",
       "    <tr style=\"text-align: right;\">\n",
       "      <th></th>\n",
       "      <th>station_id</th>\n",
       "      <th>station_name</th>\n",
       "      <th>month_beginning</th>\n",
       "      <th>avg_weekday_rides</th>\n",
       "      <th>avg_saturday_rides</th>\n",
       "      <th>avg_sunday-holiday_rides</th>\n",
       "      <th>month_total</th>\n",
       "      <th>Location</th>\n",
       "    </tr>\n",
       "  </thead>\n",
       "  <tbody>\n",
       "    <tr>\n",
       "      <th>0</th>\n",
       "      <td>40900</td>\n",
       "      <td>Howard</td>\n",
       "      <td>2001-01-01</td>\n",
       "      <td>6233.9</td>\n",
       "      <td>3814.5</td>\n",
       "      <td>2408.6</td>\n",
       "      <td>164447</td>\n",
       "      <td>(42.019063, -87.672892)</td>\n",
       "    </tr>\n",
       "    <tr>\n",
       "      <th>1</th>\n",
       "      <td>40900</td>\n",
       "      <td>Howard</td>\n",
       "      <td>2001-01-01</td>\n",
       "      <td>6233.9</td>\n",
       "      <td>3814.5</td>\n",
       "      <td>2408.6</td>\n",
       "      <td>164447</td>\n",
       "      <td>(42.019063, -87.672892)</td>\n",
       "    </tr>\n",
       "    <tr>\n",
       "      <th>2</th>\n",
       "      <td>40900</td>\n",
       "      <td>Howard</td>\n",
       "      <td>2001-01-01</td>\n",
       "      <td>6233.9</td>\n",
       "      <td>3814.5</td>\n",
       "      <td>2408.6</td>\n",
       "      <td>164447</td>\n",
       "      <td>(42.019063, -87.672892)</td>\n",
       "    </tr>\n",
       "    <tr>\n",
       "      <th>3</th>\n",
       "      <td>40900</td>\n",
       "      <td>Howard</td>\n",
       "      <td>2001-01-01</td>\n",
       "      <td>6233.9</td>\n",
       "      <td>3814.5</td>\n",
       "      <td>2408.6</td>\n",
       "      <td>164447</td>\n",
       "      <td>(42.019063, -87.672892)</td>\n",
       "    </tr>\n",
       "    <tr>\n",
       "      <th>4</th>\n",
       "      <td>41190</td>\n",
       "      <td>Jarvis</td>\n",
       "      <td>2001-01-01</td>\n",
       "      <td>1489.1</td>\n",
       "      <td>1054.0</td>\n",
       "      <td>718.0</td>\n",
       "      <td>40567</td>\n",
       "      <td>(42.015876, -87.669092)</td>\n",
       "    </tr>\n",
       "  </tbody>\n",
       "</table>\n",
       "</div>"
      ],
      "text/plain": [
       "   station_id station_name month_beginning  avg_weekday_rides  \\\n",
       "0       40900       Howard      2001-01-01             6233.9   \n",
       "1       40900       Howard      2001-01-01             6233.9   \n",
       "2       40900       Howard      2001-01-01             6233.9   \n",
       "3       40900       Howard      2001-01-01             6233.9   \n",
       "4       41190       Jarvis      2001-01-01             1489.1   \n",
       "\n",
       "   avg_saturday_rides  avg_sunday-holiday_rides  month_total  \\\n",
       "0              3814.5                    2408.6       164447   \n",
       "1              3814.5                    2408.6       164447   \n",
       "2              3814.5                    2408.6       164447   \n",
       "3              3814.5                    2408.6       164447   \n",
       "4              1054.0                     718.0        40567   \n",
       "\n",
       "                  Location  \n",
       "0  (42.019063, -87.672892)  \n",
       "1  (42.019063, -87.672892)  \n",
       "2  (42.019063, -87.672892)  \n",
       "3  (42.019063, -87.672892)  \n",
       "4  (42.015876, -87.669092)  "
      ]
     },
     "execution_count": 115,
     "metadata": {},
     "output_type": "execute_result"
    }
   ],
   "source": [
    "df.head()"
   ]
  },
  {
   "cell_type": "code",
   "execution_count": 116,
   "id": "03cf5649-63c3-42ad-9e74-121035b724d5",
   "metadata": {},
   "outputs": [],
   "source": [
    "def get_latitude(i):\n",
    "    return i[0]\n",
    "def get_longitude(i):\n",
    "    return i[1]"
   ]
  },
  {
   "cell_type": "code",
   "execution_count": 118,
   "id": "62d31663-e85f-4537-9806-b78143cf7f75",
   "metadata": {},
   "outputs": [
    {
     "data": {
      "text/html": [
       "<div>\n",
       "<style scoped>\n",
       "    .dataframe tbody tr th:only-of-type {\n",
       "        vertical-align: middle;\n",
       "    }\n",
       "\n",
       "    .dataframe tbody tr th {\n",
       "        vertical-align: top;\n",
       "    }\n",
       "\n",
       "    .dataframe thead th {\n",
       "        text-align: right;\n",
       "    }\n",
       "</style>\n",
       "<table border=\"1\" class=\"dataframe\">\n",
       "  <thead>\n",
       "    <tr style=\"text-align: right;\">\n",
       "      <th></th>\n",
       "      <th>station_id</th>\n",
       "      <th>station_name</th>\n",
       "      <th>month_beginning</th>\n",
       "      <th>avg_weekday_rides</th>\n",
       "      <th>avg_saturday_rides</th>\n",
       "      <th>avg_sunday-holiday_rides</th>\n",
       "      <th>month_total</th>\n",
       "      <th>lat</th>\n",
       "      <th>long</th>\n",
       "    </tr>\n",
       "  </thead>\n",
       "  <tbody>\n",
       "    <tr>\n",
       "      <th>0</th>\n",
       "      <td>40900</td>\n",
       "      <td>Howard</td>\n",
       "      <td>2001-01-01</td>\n",
       "      <td>6233.9</td>\n",
       "      <td>3814.5</td>\n",
       "      <td>2408.6</td>\n",
       "      <td>164447</td>\n",
       "      <td>42.019063</td>\n",
       "      <td>-87.672892</td>\n",
       "    </tr>\n",
       "    <tr>\n",
       "      <th>1</th>\n",
       "      <td>40900</td>\n",
       "      <td>Howard</td>\n",
       "      <td>2001-01-01</td>\n",
       "      <td>6233.9</td>\n",
       "      <td>3814.5</td>\n",
       "      <td>2408.6</td>\n",
       "      <td>164447</td>\n",
       "      <td>42.019063</td>\n",
       "      <td>-87.672892</td>\n",
       "    </tr>\n",
       "    <tr>\n",
       "      <th>2</th>\n",
       "      <td>40900</td>\n",
       "      <td>Howard</td>\n",
       "      <td>2001-01-01</td>\n",
       "      <td>6233.9</td>\n",
       "      <td>3814.5</td>\n",
       "      <td>2408.6</td>\n",
       "      <td>164447</td>\n",
       "      <td>42.019063</td>\n",
       "      <td>-87.672892</td>\n",
       "    </tr>\n",
       "    <tr>\n",
       "      <th>3</th>\n",
       "      <td>40900</td>\n",
       "      <td>Howard</td>\n",
       "      <td>2001-01-01</td>\n",
       "      <td>6233.9</td>\n",
       "      <td>3814.5</td>\n",
       "      <td>2408.6</td>\n",
       "      <td>164447</td>\n",
       "      <td>42.019063</td>\n",
       "      <td>-87.672892</td>\n",
       "    </tr>\n",
       "    <tr>\n",
       "      <th>4</th>\n",
       "      <td>41190</td>\n",
       "      <td>Jarvis</td>\n",
       "      <td>2001-01-01</td>\n",
       "      <td>1489.1</td>\n",
       "      <td>1054.0</td>\n",
       "      <td>718.0</td>\n",
       "      <td>40567</td>\n",
       "      <td>42.015876</td>\n",
       "      <td>-87.669092</td>\n",
       "    </tr>\n",
       "  </tbody>\n",
       "</table>\n",
       "</div>"
      ],
      "text/plain": [
       "   station_id station_name month_beginning  avg_weekday_rides  \\\n",
       "0       40900       Howard      2001-01-01             6233.9   \n",
       "1       40900       Howard      2001-01-01             6233.9   \n",
       "2       40900       Howard      2001-01-01             6233.9   \n",
       "3       40900       Howard      2001-01-01             6233.9   \n",
       "4       41190       Jarvis      2001-01-01             1489.1   \n",
       "\n",
       "   avg_saturday_rides  avg_sunday-holiday_rides  month_total        lat  \\\n",
       "0              3814.5                    2408.6       164447  42.019063   \n",
       "1              3814.5                    2408.6       164447  42.019063   \n",
       "2              3814.5                    2408.6       164447  42.019063   \n",
       "3              3814.5                    2408.6       164447  42.019063   \n",
       "4              1054.0                     718.0        40567  42.015876   \n",
       "\n",
       "        long  \n",
       "0 -87.672892  \n",
       "1 -87.672892  \n",
       "2 -87.672892  \n",
       "3 -87.672892  \n",
       "4 -87.669092  "
      ]
     },
     "execution_count": 118,
     "metadata": {},
     "output_type": "execute_result"
    }
   ],
   "source": [
    "df['lat'] = df['Location'].apply(get_latitude)\n",
    "df['long'] = df['Location'].apply(get_longitude)\n",
    "df.drop(columns = 'Location',inplace = True)\n",
    "df.head()"
   ]
  },
  {
   "cell_type": "code",
   "execution_count": 121,
   "id": "c2dfa71f-4863-43f4-b147-539633404a32",
   "metadata": {},
   "outputs": [],
   "source": [
    "df.to_csv('clean-avg-train-combined-with-location-data.csv')"
   ]
  }
 ],
 "metadata": {
  "kernelspec": {
   "display_name": "Python 3",
   "language": "python",
   "name": "python3"
  },
  "language_info": {
   "codemirror_mode": {
    "name": "ipython",
    "version": 3
   },
   "file_extension": ".py",
   "mimetype": "text/x-python",
   "name": "python",
   "nbconvert_exporter": "python",
   "pygments_lexer": "ipython3",
   "version": "3.8.8"
  }
 },
 "nbformat": 4,
 "nbformat_minor": 5
}
