{
 "cells": [
  {
   "cell_type": "code",
   "execution_count": 1,
   "id": "a312037a",
   "metadata": {},
   "outputs": [],
   "source": [
    "# geopandas only works in notebook, not lab"
   ]
  },
  {
   "cell_type": "markdown",
   "id": "b4e4fd3d",
   "metadata": {},
   "source": [
    "## Imports"
   ]
  },
  {
   "cell_type": "code",
   "execution_count": 2,
   "id": "c1a5b6a4",
   "metadata": {
    "scrolled": true
   },
   "outputs": [
    {
     "name": "stdout",
     "output_type": "stream",
     "text": [
      "Requirement already satisfied: imageio in /Users/afsara/opt/anaconda3/envs/geopandas/lib/python3.9/site-packages (2.9.0)\r\n",
      "Requirement already satisfied: pillow in /Users/afsara/opt/anaconda3/envs/geopandas/lib/python3.9/site-packages (from imageio) (8.2.0)\r\n",
      "Requirement already satisfied: numpy in /Users/afsara/opt/anaconda3/envs/geopandas/lib/python3.9/site-packages (from imageio) (1.21.1)\r\n"
     ]
    }
   ],
   "source": [
    "! pip install imageio"
   ]
  },
  {
   "cell_type": "code",
   "execution_count": 3,
   "id": "c4cd3d73",
   "metadata": {},
   "outputs": [],
   "source": [
    "import geoplot as gplt\n",
    "import geopandas as gpd\n",
    "import geoplot.crs as gcrs\n",
    "import mapclassify as mc\n",
    "import imageio\n",
    "\n",
    "import pandas as pd\n",
    "import numpy as np\n",
    "import matplotlib.pyplot as plt\n",
    "%matplotlib inline"
   ]
  },
  {
   "cell_type": "markdown",
   "id": "3d3d9843",
   "metadata": {},
   "source": [
    "## Reading in, Cleaning, EDA"
   ]
  },
  {
   "cell_type": "code",
   "execution_count": 4,
   "id": "c5232b00",
   "metadata": {},
   "outputs": [],
   "source": [
    "community_map_df = gpd.read_file('./Base_Map_Data/geo_export_99fafe6a-3645-47d4-977c-1e0e0ad17171.shp')"
   ]
  },
  {
   "cell_type": "code",
   "execution_count": 5,
   "id": "3eb0ef8e",
   "metadata": {},
   "outputs": [
    {
     "data": {
      "text/plain": [
       "<AxesSubplot:>"
      ]
     },
     "execution_count": 5,
     "metadata": {},
     "output_type": "execute_result"
    },
    {
     "data": {
      "image/png": "[encoded data removed]",
      "text/plain": [
       "<Figure size 432x288 with 1 Axes>"
      ]
     },
     "metadata": {
      "needs_background": "light"
     },
     "output_type": "display_data"
    }
   ],
   "source": [
    "community_map_df.plot()"
   ]
  },
  {
   "cell_type": "code",
   "execution_count": 6,
   "id": "d019dfd9",
   "metadata": {},
   "outputs": [],
   "source": [
    "bus_ridership = pd.read_csv('./clean_CTA_Bus_Ridership_2012.csv')"
   ]
  },
  {
   "cell_type": "code",
   "execution_count": 7,
   "id": "569f9ad3",
   "metadata": {
    "scrolled": true
   },
   "outputs": [
    {
     "data": {
      "text/html": [
       "<div>\n",
       "<style scoped>\n",
       "    .dataframe tbody tr th:only-of-type {\n",
       "        vertical-align: middle;\n",
       "    }\n",
       "\n",
       "    .dataframe tbody tr th {\n",
       "        vertical-align: top;\n",
       "    }\n",
       "\n",
       "    .dataframe thead th {\n",
       "        text-align: right;\n",
       "    }\n",
       "</style>\n",
       "<table border=\"1\" class=\"dataframe\">\n",
       "  <thead>\n",
       "    <tr style=\"text-align: right;\">\n",
       "      <th></th>\n",
       "      <th>Unnamed: 0</th>\n",
       "      <th>stop_id</th>\n",
       "      <th>on_street</th>\n",
       "      <th>cross_street</th>\n",
       "      <th>routes</th>\n",
       "      <th>boardings</th>\n",
       "      <th>alightings</th>\n",
       "      <th>location</th>\n",
       "    </tr>\n",
       "  </thead>\n",
       "  <tbody>\n",
       "    <tr>\n",
       "      <th>0</th>\n",
       "      <td>0</td>\n",
       "      <td>1</td>\n",
       "      <td>JACKSON</td>\n",
       "      <td>AUSTIN</td>\n",
       "      <td>126</td>\n",
       "      <td>183.4</td>\n",
       "      <td>150.0</td>\n",
       "      <td>(41.87632184, -87.77410482)</td>\n",
       "    </tr>\n",
       "    <tr>\n",
       "      <th>1</th>\n",
       "      <td>1</td>\n",
       "      <td>2</td>\n",
       "      <td>JACKSON</td>\n",
       "      <td>MAYFIELD (EXTENDED)</td>\n",
       "      <td>126</td>\n",
       "      <td>5.3</td>\n",
       "      <td>0.2</td>\n",
       "      <td>(41.87706679, -87.77131794)</td>\n",
       "    </tr>\n",
       "    <tr>\n",
       "      <th>2</th>\n",
       "      <td>2</td>\n",
       "      <td>3</td>\n",
       "      <td>JACKSON</td>\n",
       "      <td>MENARD</td>\n",
       "      <td>126</td>\n",
       "      <td>8.3</td>\n",
       "      <td>0.7</td>\n",
       "      <td>(41.87695725, -87.76975039)</td>\n",
       "    </tr>\n",
       "    <tr>\n",
       "      <th>3</th>\n",
       "      <td>3</td>\n",
       "      <td>4</td>\n",
       "      <td>JACKSON</td>\n",
       "      <td>5700 WEST</td>\n",
       "      <td>126</td>\n",
       "      <td>17.9</td>\n",
       "      <td>3.0</td>\n",
       "      <td>(41.87702418, -87.76745055)</td>\n",
       "    </tr>\n",
       "    <tr>\n",
       "      <th>4</th>\n",
       "      <td>4</td>\n",
       "      <td>6</td>\n",
       "      <td>JACKSON</td>\n",
       "      <td>LOTUS</td>\n",
       "      <td>126</td>\n",
       "      <td>74.0</td>\n",
       "      <td>11.2</td>\n",
       "      <td>(41.876513, -87.761446)</td>\n",
       "    </tr>\n",
       "  </tbody>\n",
       "</table>\n",
       "</div>"
      ],
      "text/plain": [
       "   Unnamed: 0  stop_id on_street         cross_street routes  boardings  \\\n",
       "0           0        1   JACKSON               AUSTIN    126      183.4   \n",
       "1           1        2   JACKSON  MAYFIELD (EXTENDED)    126        5.3   \n",
       "2           2        3   JACKSON               MENARD    126        8.3   \n",
       "3           3        4   JACKSON            5700 WEST    126       17.9   \n",
       "4           4        6   JACKSON                LOTUS    126       74.0   \n",
       "\n",
       "   alightings                     location  \n",
       "0       150.0  (41.87632184, -87.77410482)  \n",
       "1         0.2  (41.87706679, -87.77131794)  \n",
       "2         0.7  (41.87695725, -87.76975039)  \n",
       "3         3.0  (41.87702418, -87.76745055)  \n",
       "4        11.2      (41.876513, -87.761446)  "
      ]
     },
     "execution_count": 7,
     "metadata": {},
     "output_type": "execute_result"
    }
   ],
   "source": [
    "bus_ridership.head()"
   ]
  },
  {
   "cell_type": "code",
   "execution_count": null,
   "id": "a57f7418",
   "metadata": {},
   "outputs": [],
   "source": []
  }
 ],
 "metadata": {
  "kernelspec": {
   "display_name": "Python 3 (ipykernel)",
   "language": "python",
   "name": "python3"
  },
  "language_info": {
   "codemirror_mode": {
    "name": "ipython",
    "version": 3
   },
   "file_extension": ".py",
   "mimetype": "text/x-python",
   "name": "python",
   "nbconvert_exporter": "python",
   "pygments_lexer": "ipython3",
   "version": "3.9.6"
  }
 },
 "nbformat": 4,
 "nbformat_minor": 5
}
