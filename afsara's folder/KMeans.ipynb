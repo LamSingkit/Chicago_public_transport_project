{
 "cells": [
  {
   "cell_type": "code",
   "execution_count": 1,
   "id": "2bacf373-c401-4c2e-8d8d-364b16d47d5a",
   "metadata": {},
   "outputs": [],
   "source": [
    "import numpy as np\n",
    "import pandas as pd\n",
    "import seaborn as sns\n",
    "import matplotlib.pyplot as plt\n",
    "%matplotlib inline \n",
    "\n",
    "from sklearn.preprocessing import normalize, StandardScaler, MinMaxScaler\n",
    "from sklearn.cluster import KMeans\n",
    "from sklearn.metrics import pairwise_distances, silhouette_score\n",
    "\n",
    "import time"
   ]
  },
  {
   "cell_type": "markdown",
   "id": "6ecfde46-8107-481b-9999-ca905a9240f0",
   "metadata": {},
   "source": [
    "### Reading in Dummified CSVs"
   ]
  },
  {
   "cell_type": "code",
   "execution_count": 5,
   "id": "b29c4370-8728-4b2b-b534-fd914cda6e8c",
   "metadata": {},
   "outputs": [],
   "source": [
    "bus = pd.read_csv('./avg_bus_dummified.csv')\n",
    "train = pd.read_csv('./avg_train_dummified.csv')"
   ]
  },
  {
   "cell_type": "markdown",
   "id": "615e88fc-668c-48ca-8e1f-9b0a77ef9bca",
   "metadata": {},
   "source": [
    "## KMeans on Bus"
   ]
  },
  {
   "cell_type": "code",
   "execution_count": null,
   "id": "d6765d5e-f7bc-4d64-ae4a-df0fc1b26aba",
   "metadata": {},
   "outputs": [],
   "source": [
    "results = pd.DataFrame(columns = ['k','silhouette','type'])\n",
    "\n",
    "def cluster(clusters, data, type):\n",
    "    for c in clusters:\n",
    "        km = KMeans(n_clusters=c)\n",
    "        km.fit(data)\n",
    "        labels = km.labels_\n",
    "        sil_score = silhouette_score(data, labels)\n",
    "        results.loc[len(results)]=[str(c), sil_score, type]"
   ]
  },
  {
   "cell_type": "code",
   "execution_count": null,
   "id": "64a850f0-f5a9-454b-a6fc-2133e82ead0a",
   "metadata": {},
   "outputs": [],
   "source": [
    "def best_cluster(clusters, data):\n",
    "    cluster(clusters, data, 'default')\n",
    "    \n",
    "    # normalized version\n",
    "    X_n = normalize(data)\n",
    "    cluster(clusters, X_n, 'normalized')\n",
    "    \n",
    "    # standard scale version\n",
    "    sc = StandardScaler()\n",
    "    X_sc = sc.fit_transform(data)\n",
    "    cluster(clusters, X_sc, 'standard_scaler')\n",
    "    \n",
    "    # minmax scale version\n",
    "    mm = MinMaxScaler()\n",
    "    X_mm = mm.fit_transform(data)\n",
    "    cluster(clusters, X_mm, 'min_max_scaler')\n",
    "\n",
    "    return results.loc[results['silhouette'].idxmax()]"
   ]
  },
  {
   "cell_type": "code",
   "execution_count": null,
   "id": "8d08b90c-ed5b-45a8-a257-dfd70e18730b",
   "metadata": {},
   "outputs": [],
   "source": [
    "clusters = list(range(2, 21))\n",
    "best_cluster(clusters, #choose type of X from above)"
   ]
  },
  {
   "cell_type": "code",
   "execution_count": null,
   "id": "322baebf-595c-4df7-901c-3c50c8222436",
   "metadata": {},
   "outputs": [],
   "source": [
    "km_bus = KMeans(n_clusters=3)\n",
    "#Best scaled X here\n",
    "km_bus.fit(#scaled X here)\n",
    "labels_bus = km_bus.labels_\n",
    "\n",
    "X_bus = seeds.drop('species', axis=1)\n",
    "\n",
    "X_bus['clusters']=labels_bus\n",
    "sns.pairplot(X_bus, hue='clusters');"
   ]
  },
  {
   "cell_type": "markdown",
   "id": "1287adf3-eb64-4293-ad3f-755d592bbb5d",
   "metadata": {},
   "source": [
    "## KMeans on Train"
   ]
  },
  {
   "cell_type": "code",
   "execution_count": null,
   "id": "d9a73fa1-b071-4704-9734-6e32a3b56a1d",
   "metadata": {},
   "outputs": [],
   "source": [
    "clusters = list(range(2, 21))\n",
    "best_cluster(clusters, #choose type of X from above)"
   ]
  },
  {
   "cell_type": "code",
   "execution_count": null,
   "id": "5c7afcf7-acec-4e16-a23a-dd18a49ccf7c",
   "metadata": {},
   "outputs": [],
   "source": []
  }
 ],
 "metadata": {
  "kernelspec": {
   "display_name": "Python 3",
   "language": "python",
   "name": "python3"
  },
  "language_info": {
   "codemirror_mode": {
    "name": "ipython",
    "version": 3
   },
   "file_extension": ".py",
   "mimetype": "text/x-python",
   "name": "python",
   "nbconvert_exporter": "python",
   "pygments_lexer": "ipython3",
   "version": "3.8.8"
  }
 },
 "nbformat": 4,
 "nbformat_minor": 5
}
